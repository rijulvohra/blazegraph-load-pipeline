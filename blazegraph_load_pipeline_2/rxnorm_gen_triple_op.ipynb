{
 "cells": [
  {
   "cell_type": "code",
   "execution_count": 1,
   "metadata": {
    "execution": {
     "iopub.execute_input": "2020-10-27T01:20:39.109084Z",
     "iopub.status.busy": "2020-10-27T01:20:39.108122Z",
     "iopub.status.idle": "2020-10-27T01:20:39.111429Z",
     "shell.execute_reply": "2020-10-27T01:20:39.112144Z"
    },
    "papermill": {
     "duration": 0.029764,
     "end_time": "2020-10-27T01:20:39.112609",
     "exception": false,
     "start_time": "2020-10-27T01:20:39.082845",
     "status": "completed"
    },
    "tags": [
     "parameters"
    ]
   },
   "outputs": [],
   "source": [
    "# Generate triples parameter\n",
    "\n",
    "#kgtk_path takes in the directory which contains the kgtk subgraph\n",
    "kgtk_path = '/Users/rijulvohra/Documents/work/Novartis-ISI/kgtk_development/data/Q28885102'\n",
    "output_filename = 'pharma_product_concat2.tsv.gz'\n",
    "triple_filename = 'pharma_triple2.ttl'\n",
    "triple_generation_log = 'pharma_log2.txt'\n",
    "properties_file_path = './properties.tsv'\n",
    "\n",
    "# Load triples to blazegraph\n",
    "wikibase_ui_port = '10001'\n",
    "wikibase_sparql_port = '10002'\n",
    "wikibase_proxy_port = '10003'\n",
    "wikibase_qs_port = '10005'\n",
    "wikibase_volume = '.'\n",
    "docker_name = 'blazegraphpipeline'\n",
    "create_new = False\n",
    "stop_docker = \"No\"\n",
    "blazegraph_image = 'wikibase/wdqs:0.3.10'\n",
    "ttl_path = ''\n",
    "query_service_name = 'Novartis-ISI Query Service'\n",
    "\n",
    "#Parameterize whether you want to run just the generate_wikidata_triples part or loading to blazegraph part\n",
    "gen_triples = False\n",
    "load_triples = False\n",
    "\n"
   ]
  },
  {
   "cell_type": "code",
   "execution_count": 2,
   "metadata": {
    "execution": {
     "iopub.execute_input": "2020-10-27T01:20:39.132718Z",
     "iopub.status.busy": "2020-10-27T01:20:39.132016Z",
     "iopub.status.idle": "2020-10-27T01:20:39.133652Z",
     "shell.execute_reply": "2020-10-27T01:20:39.134337Z"
    },
    "papermill": {
     "duration": 0.012861,
     "end_time": "2020-10-27T01:20:39.134570",
     "exception": false,
     "start_time": "2020-10-27T01:20:39.121709",
     "status": "completed"
    },
    "tags": [
     "injected-parameters"
    ]
   },
   "outputs": [],
   "source": [
    "# Parameters\n",
    "kgtk_path = \"/Users/rijulvohra/Documents/work/Novartis-ISI/blazegraph-load-Noartis-ISI-pipeline/blazegraph-load-pipeline/blazegraph_load_pipeline_2/data/rxnorm_converted/Qrx_qnode_rx_un.tsv.gz\"\n",
    "output_filename = \"rxnorm_concat_full.tsv.gz\"\n",
    "triple_filename = \"rxnorm_triple.ttl\"\n",
    "triple_generation_log = \"rxnorm_log.txt\"\n",
    "properties_file_path = \"./data/rxnorm/pnode_rx_un.tsv\"\n",
    "gen_triples = True\n",
    "load_triples = True\n"
   ]
  },
  {
   "cell_type": "code",
   "execution_count": 3,
   "metadata": {
    "execution": {
     "iopub.execute_input": "2020-10-27T01:20:39.153323Z",
     "iopub.status.busy": "2020-10-27T01:20:39.152058Z",
     "iopub.status.idle": "2020-10-27T01:20:39.156366Z",
     "shell.execute_reply": "2020-10-27T01:20:39.156898Z"
    },
    "papermill": {
     "duration": 0.015866,
     "end_time": "2020-10-27T01:20:39.157235",
     "exception": false,
     "start_time": "2020-10-27T01:20:39.141369",
     "status": "completed"
    },
    "tags": []
   },
   "outputs": [
    {
     "name": "stdout",
     "output_type": "stream",
     "text": [
      "/Users/rijulvohra/Documents/work/Novartis-ISI/blazegraph-load-Noartis-ISI-pipeline/blazegraph-load-pipeline/blazegraph_load_pipeline_2/data/rxnorm_converted/Qrx_qnode_rx_un.tsv.gz\n",
      "/Users/rijulvohra/Documents/work/Novartis-ISI/blazegraph-load-Noartis-ISI-pipeline/blazegraph-load-pipeline/blazegraph_load_pipeline_2/volume\n"
     ]
    }
   ],
   "source": [
    "import os\n",
    "import re\n",
    "import subprocess\n",
    "import gzip\n",
    "import subprocess\n",
    "import socket\n",
    "import sys\n",
    "import shutil\n",
    "import time\n",
    "from IPython.display import display, Markdown, HTML\n",
    "dirname = os.path.abspath('')\n",
    "kgtk_path = os.path.join(dirname,kgtk_path)\n",
    "wikibase_volume = os.path.join(dirname,'volume')\n",
    "print(kgtk_path)\n",
    "print(wikibase_volume)"
   ]
  },
  {
   "cell_type": "code",
   "execution_count": 4,
   "metadata": {
    "execution": {
     "iopub.execute_input": "2020-10-27T01:20:39.173651Z",
     "iopub.status.busy": "2020-10-27T01:20:39.173095Z",
     "iopub.status.idle": "2020-10-27T01:20:42.504608Z",
     "shell.execute_reply": "2020-10-27T01:20:42.505686Z"
    },
    "papermill": {
     "duration": 3.342584,
     "end_time": "2020-10-27T01:20:42.506263",
     "exception": false,
     "start_time": "2020-10-27T01:20:39.163679",
     "status": "completed"
    },
    "tags": []
   },
   "outputs": [
    {
     "name": "stdout",
     "output_type": "stream",
     "text": [
      "Requirement already satisfied: en_core_web_sm==2.2.5 from https://github.com/explosion/spacy-models/releases/download/en_core_web_sm-2.2.5/en_core_web_sm-2.2.5.tar.gz#egg=en_core_web_sm==2.2.5 in /Users/rijulvohra/opt/anaconda3/envs/kgtk_development/lib/python3.7/site-packages (2.2.5)\n",
      "Requirement already satisfied: spacy>=2.2.2 in /Users/rijulvohra/opt/anaconda3/envs/kgtk_development/lib/python3.7/site-packages/spacy-2.2.4-py3.7-macosx-10.9-x86_64.egg (from en_core_web_sm==2.2.5) (2.2.4)\n",
      "Requirement already satisfied: blis<0.5.0,>=0.4.0 in /Users/rijulvohra/opt/anaconda3/envs/kgtk_development/lib/python3.7/site-packages/blis-0.4.1-py3.7-macosx-10.9-x86_64.egg (from spacy>=2.2.2->en_core_web_sm==2.2.5) (0.4.1)\n",
      "Requirement already satisfied: catalogue<1.1.0,>=0.0.7 in /Users/rijulvohra/opt/anaconda3/envs/kgtk_development/lib/python3.7/site-packages/catalogue-1.0.0-py3.7.egg (from spacy>=2.2.2->en_core_web_sm==2.2.5) (1.0.0)\n",
      "Requirement already satisfied: cymem<2.1.0,>=2.0.2 in /Users/rijulvohra/opt/anaconda3/envs/kgtk_development/lib/python3.7/site-packages/cymem-2.0.3-py3.7-macosx-10.9-x86_64.egg (from spacy>=2.2.2->en_core_web_sm==2.2.5) (2.0.3)\n",
      "Requirement already satisfied: murmurhash<1.1.0,>=0.28.0 in /Users/rijulvohra/opt/anaconda3/envs/kgtk_development/lib/python3.7/site-packages/murmurhash-1.0.2-py3.7-macosx-10.9-x86_64.egg (from spacy>=2.2.2->en_core_web_sm==2.2.5) (1.0.2)\n",
      "Requirement already satisfied: numpy>=1.15.0 in /Users/rijulvohra/opt/anaconda3/envs/kgtk_development/lib/python3.7/site-packages/numpy-1.19.2-py3.7-macosx-10.9-x86_64.egg (from spacy>=2.2.2->en_core_web_sm==2.2.5) (1.19.2)\n",
      "Requirement already satisfied: plac<1.2.0,>=0.9.6 in /Users/rijulvohra/opt/anaconda3/envs/kgtk_development/lib/python3.7/site-packages/plac-1.1.3-py3.7.egg (from spacy>=2.2.2->en_core_web_sm==2.2.5) (1.1.3)\n",
      "Requirement already satisfied: preshed<3.1.0,>=3.0.2 in /Users/rijulvohra/opt/anaconda3/envs/kgtk_development/lib/python3.7/site-packages/preshed-3.0.2-py3.7-macosx-10.9-x86_64.egg (from spacy>=2.2.2->en_core_web_sm==2.2.5) (3.0.2)\n",
      "Requirement already satisfied: requests<3.0.0,>=2.13.0 in /Users/rijulvohra/opt/anaconda3/envs/kgtk_development/lib/python3.7/site-packages/requests-2.24.0-py3.7.egg (from spacy>=2.2.2->en_core_web_sm==2.2.5) (2.24.0)\n",
      "Requirement already satisfied: setuptools in /Users/rijulvohra/opt/anaconda3/envs/kgtk_development/lib/python3.7/site-packages (from spacy>=2.2.2->en_core_web_sm==2.2.5) (50.3.0.post20201006)\n",
      "Requirement already satisfied: srsly<1.1.0,>=1.0.2 in /Users/rijulvohra/opt/anaconda3/envs/kgtk_development/lib/python3.7/site-packages/srsly-1.0.2-py3.7-macosx-10.9-x86_64.egg (from spacy>=2.2.2->en_core_web_sm==2.2.5) (1.0.2)\n",
      "Requirement already satisfied: thinc==7.4.0 in /Users/rijulvohra/opt/anaconda3/envs/kgtk_development/lib/python3.7/site-packages/thinc-7.4.0-py3.7-macosx-10.9-x86_64.egg (from spacy>=2.2.2->en_core_web_sm==2.2.5) (7.4.0)\n",
      "Requirement already satisfied: tqdm<5.0.0,>=4.38.0 in /Users/rijulvohra/opt/anaconda3/envs/kgtk_development/lib/python3.7/site-packages/tqdm-4.50.2-py3.7.egg (from spacy>=2.2.2->en_core_web_sm==2.2.5) (4.50.2)\n",
      "Requirement already satisfied: wasabi<1.1.0,>=0.4.0 in /Users/rijulvohra/opt/anaconda3/envs/kgtk_development/lib/python3.7/site-packages/wasabi-0.8.0-py3.7.egg (from spacy>=2.2.2->en_core_web_sm==2.2.5) (0.8.0)\n",
      "Requirement already satisfied: importlib-metadata>=0.20 in /Users/rijulvohra/opt/anaconda3/envs/kgtk_development/lib/python3.7/site-packages (from catalogue<1.1.0,>=0.0.7->spacy>=2.2.2->en_core_web_sm==2.2.5) (2.0.0)\n",
      "Requirement already satisfied: certifi>=2017.4.17 in /Users/rijulvohra/opt/anaconda3/envs/kgtk_development/lib/python3.7/site-packages (from requests<3.0.0,>=2.13.0->spacy>=2.2.2->en_core_web_sm==2.2.5) (2020.6.20)\n",
      "Requirement already satisfied: chardet<4,>=3.0.2 in /Users/rijulvohra/opt/anaconda3/envs/kgtk_development/lib/python3.7/site-packages/chardet-3.0.4-py3.7.egg (from requests<3.0.0,>=2.13.0->spacy>=2.2.2->en_core_web_sm==2.2.5) (3.0.4)\n",
      "Requirement already satisfied: idna<3,>=2.5 in /Users/rijulvohra/opt/anaconda3/envs/kgtk_development/lib/python3.7/site-packages/idna-2.10-py3.7.egg (from requests<3.0.0,>=2.13.0->spacy>=2.2.2->en_core_web_sm==2.2.5) (2.10)\n",
      "Requirement already satisfied: urllib3!=1.25.0,!=1.25.1,<1.26,>=1.21.1 in /Users/rijulvohra/opt/anaconda3/envs/kgtk_development/lib/python3.7/site-packages/urllib3-1.25.10-py3.7.egg (from requests<3.0.0,>=2.13.0->spacy>=2.2.2->en_core_web_sm==2.2.5) (1.25.10)\n",
      "Requirement already satisfied: zipp>=0.5 in /Users/rijulvohra/opt/anaconda3/envs/kgtk_development/lib/python3.7/site-packages (from importlib-metadata>=0.20->catalogue<1.1.0,>=0.0.7->spacy>=2.2.2->en_core_web_sm==2.2.5) (3.3.0)\n",
      "\u001b[38;5;2m✔ Download and installation successful\u001b[0m\n",
      "You can now load the model via spacy.load('en_core_web_sm')\n"
     ]
    }
   ],
   "source": [
    "# Downloading the spacy en_core_web_sm model. It is a KGTK dependency\n",
    "!python -m spacy download en_core_web_sm"
   ]
  },
  {
   "cell_type": "code",
   "execution_count": 5,
   "metadata": {
    "execution": {
     "iopub.execute_input": "2020-10-27T01:20:42.540018Z",
     "iopub.status.busy": "2020-10-27T01:20:42.539204Z",
     "iopub.status.idle": "2020-10-27T01:20:42.541414Z",
     "shell.execute_reply": "2020-10-27T01:20:42.541817Z"
    },
    "papermill": {
     "duration": 0.019428,
     "end_time": "2020-10-27T01:20:42.542037",
     "exception": false,
     "start_time": "2020-10-27T01:20:42.522609",
     "status": "completed"
    },
    "tags": []
   },
   "outputs": [],
   "source": [
    "'''\n",
    "Utility class to print stuff in Bold.\n",
    "'''\n",
    "class color:\n",
    "   PURPLE = '\\033[95m'\n",
    "   CYAN = '\\033[96m'\n",
    "   DARKCYAN = '\\033[36m'\n",
    "   BLUE = '\\033[94m'\n",
    "   GREEN = '\\033[92m'\n",
    "   YELLOW = '\\033[93m'\n",
    "   RED = '\\033[91m'\n",
    "   BOLD = '\\033[1m'\n",
    "   UNDERLINE = '\\033[4m'\n",
    "   END = '\\033[0m'"
   ]
  },
  {
   "cell_type": "markdown",
   "metadata": {
    "papermill": {
     "duration": 0.007447,
     "end_time": "2020-10-27T01:20:42.557234",
     "exception": false,
     "start_time": "2020-10-27T01:20:42.549787",
     "status": "completed"
    },
    "tags": []
   },
   "source": [
    "### Generate Wikidata triples"
   ]
  },
  {
   "cell_type": "code",
   "execution_count": 6,
   "metadata": {
    "execution": {
     "iopub.execute_input": "2020-10-27T01:20:42.578388Z",
     "iopub.status.busy": "2020-10-27T01:20:42.577534Z",
     "iopub.status.idle": "2020-10-27T01:20:42.580111Z",
     "shell.execute_reply": "2020-10-27T01:20:42.580661Z"
    },
    "papermill": {
     "duration": 0.01554,
     "end_time": "2020-10-27T01:20:42.580918",
     "exception": false,
     "start_time": "2020-10-27T01:20:42.565378",
     "status": "completed"
    },
    "tags": []
   },
   "outputs": [
    {
     "name": "stdout",
     "output_type": "stream",
     "text": [
      "CPU times: user 13 µs, sys: 7 µs, total: 20 µs\n",
      "Wall time: 21.9 µs\n"
     ]
    }
   ],
   "source": [
    "%%time\n",
    "def find_files(path):\n",
    "    '''\n",
    "    Finds all the KGTK edge files in a directory\n",
    "    \n",
    "    parameter:\n",
    "    path: The path of the directory which contains the KGTK edge files\n",
    "    return:\n",
    "    A list of files with entire paths of the KGTK edge files\n",
    "    '''\n",
    "    kgtk_files = []\n",
    "    for file_name in glob.glob(kgtk_path + '/Q*.tsv.gz'):\n",
    "        if re.search('.statistics.tsv.gz',file_name) or re.search('.P279star.tsv.gz',file_name):\n",
    "            continue\n",
    "        \n",
    "        kgtk_files.append(os.path.join(kgtk_path,file_name))\n",
    "    return kgtk_files\n",
    "\n",
    "if not(kgtk_path.endswith('.tsv.gz')):\n",
    "    kgtk_files = find_files(kgtk_path)\n",
    "    print(json.dumps(kgtk_files,indent = 4))\n",
    "\n",
    "else:\n",
    "    kgtk_files = [kgtk_path]\n",
    "    kgtk_path = os.path.dirname(kgtk_path)"
   ]
  },
  {
   "cell_type": "code",
   "execution_count": 7,
   "metadata": {
    "execution": {
     "iopub.execute_input": "2020-10-27T01:20:42.601224Z",
     "iopub.status.busy": "2020-10-27T01:20:42.600648Z",
     "iopub.status.idle": "2020-10-27T01:20:42.602764Z",
     "shell.execute_reply": "2020-10-27T01:20:42.603130Z"
    },
    "papermill": {
     "duration": 0.014596,
     "end_time": "2020-10-27T01:20:42.603367",
     "exception": false,
     "start_time": "2020-10-27T01:20:42.588771",
     "status": "completed"
    },
    "tags": []
   },
   "outputs": [
    {
     "name": "stdout",
     "output_type": "stream",
     "text": [
      "CPU times: user 2 µs, sys: 0 ns, total: 2 µs\n",
      "Wall time: 3.81 µs\n"
     ]
    }
   ],
   "source": [
    "%%time\n",
    "def generate_concat_files(kgtk_files, kgtk_path, output_filename):\n",
    "    '''\n",
    "    Concatenates all the KGTK edge files present in the passed directory.\n",
    "    \n",
    "    parameters:\n",
    "    kgtk_files: A list with the path of all the KGTK edge files\n",
    "    kgtk_path: The path of the directory which contains the KGTK edge files\n",
    "    output_filename: The name of the final concatenated tsv file\n",
    "    '''\n",
    "    concat_input = ' '.join(kgtk_files)\n",
    "    output_concat = os.path.join(kgtk_path,output_filename)\n",
    "    !kgtk cat -o $output_concat -i $concat_input\n",
    "    \n",
    "    return output_concat\n",
    "    \n"
   ]
  },
  {
   "cell_type": "code",
   "execution_count": 8,
   "metadata": {
    "execution": {
     "iopub.execute_input": "2020-10-27T01:20:42.634387Z",
     "iopub.status.busy": "2020-10-27T01:20:42.633791Z",
     "iopub.status.idle": "2020-10-27T01:23:07.045409Z",
     "shell.execute_reply": "2020-10-27T01:23:07.046508Z"
    },
    "papermill": {
     "duration": 144.435373,
     "end_time": "2020-10-27T01:23:07.046840",
     "exception": false,
     "start_time": "2020-10-27T01:20:42.611467",
     "status": "completed"
    },
    "tags": []
   },
   "outputs": [
    {
     "name": "stdout",
     "output_type": "stream",
     "text": [
      "\n",
      "\u001b[1mConcatenated edge file is present at:\u001b[0m /Users/rijulvohra/Documents/work/Novartis-ISI/blazegraph-load-Noartis-ISI-pipeline/blazegraph-load-pipeline/blazegraph_load_pipeline_2/data/rxnorm_converted/rxnorm_concat_full.tsv.gz\n",
      "\n",
      "\u001b[1m------------Head of the concatenated KGTK edge file-------------\u001b[0m\n",
      "\n",
      "id\tnode1\tlabel\tnode2\n",
      "QRX690258309-BN-196472\tQRX690258309\tBN\t196472\n",
      "QRX690258310-rxcui-317541\tQRX690258310\trxcui\t317541\n",
      "QRX690258310-label-Oral Tablet\tQRX690258310\tlabel\tOral Tablet\n",
      "QRX690258310-alias-\tQRX690258310\talias\t\n",
      "QRX690258310-description-dose form\tQRX690258310\tdescription\tdose form\n",
      "QRX690258310-language-ENG\tQRX690258310\tlanguage\tENG\n",
      "QRX690258310-suppress-N\tQRX690258310\tsuppress\tN\n",
      "QRX690258310-umlscui-C0993159\tQRX690258310\tumlscui\tC0993159\n",
      "QRX690258310-IN-29046\tQRX690258310\tIN\t29046\n",
      "QRX690258311-rxcui-206771\tQRX690258311\trxcui\t206771\n",
      "QRX690258311-label-lisinopril 40 MG Oral Tablet [Zestril]\tQRX690258311\tlabel\tlisinopril 40 MG Oral Tablet [Zestril]\n",
      "QRX690258311-alias-Zestril 40 MG Oral Tablet\tQRX690258311\talias\tZestril 40 MG Oral Tablet\n",
      "QRX690258311-description-branded drug\tQRX690258311\tdescription\tbranded drug\n",
      "QRX690258311-language-ENG\tQRX690258311\tlanguage\tENG\n",
      "QRX690258311-suppress-N\tQRX690258311\tsuppress\tN\n",
      "QRX690258311-umlscui-C0707946\tQRX690258311\tumlscui\tC0707946\n",
      "QRX690258311-SBDC-567582\tQRX690258311\tSBDC\t567582\n",
      "QRX690258312-rxcui-567582\tQRX690258312\trxcui\t567582\n",
      "QRX690258312-label-lisinopril 40 MG [Zestril]\tQRX690258312\tlabel\tlisinopril 40 MG [Zestril]\n",
      "gzip: error writing to output: Broken pipe\n",
      "gzip: /Users/rijulvohra/Documents/work/Novartis-ISI/blazegraph-load-Noartis-ISI-pipeline/blazegraph-load-pipeline/blazegraph_load_pipeline_2/data/rxnorm_converted/rxnorm_concat_full.tsv.gz: uncompress failed\n",
      "cat   0.00s user 0.00s system 0% cpu 2:04.11 total\n",
      "kgtk generate_wikidata_triples -ap aliases,alias -lp label -dp description -p  137.78s user 1.68s system 100% cpu 2:19.39 total\n",
      "\n",
      "\u001b[1mThe triple file is generated and saved at:\u001b[0m /Users/rijulvohra/Documents/work/Novartis-ISI/blazegraph-load-Noartis-ISI-pipeline/blazegraph-load-pipeline/blazegraph_load_pipeline_2/data/rxnorm_converted/rxnorm_triple.ttl.gz\n",
      "\n",
      "\u001b[1m------------Head of the triple file-------------\u001b[0m\n",
      "\n",
      "@prefix wikibase: <http://wikiba.se/ontology#> .\n",
      "@prefix wd: <http://www.wikidata.org/entity/> .\n",
      "@prefix wdt: <http://www.wikidata.org/prop/direct/> .\n",
      "@prefix wdtn: <http://www.wikidata.org/prop/direct-normalized/> .\n",
      "@prefix wdno: <http://www.wikidata.org/prop/novalue/> .\n",
      "@prefix wds: <http://www.wikidata.org/entity/statement/> .\n",
      "@prefix wdv: <http://www.wikidata.org/value/> .\n",
      "@prefix wdref: <http://www.wikidata.org/reference/> .\n",
      "@prefix p: <http://www.wikidata.org/prop/> .\n",
      "@prefix pr: <http://www.wikidata.org/prop/reference/> .\n",
      "@prefix prv: <http://www.wikidata.org/prop/reference/value/> .\n",
      "@prefix prn: <http://www.wikidata.org/prop/reference/value-normalized/> .\n",
      "@prefix ps: <http://www.wikidata.org/prop/statement/> .\n",
      "@prefix psv: <http://www.wikidata.org/prop/statement/value/> .\n",
      "@prefix psn: <http://www.wikidata.org/prop/statement/value-normalized/> .\n",
      "@prefix pq: <http://www.wikidata.org/prop/qualifier/> .\n",
      "@prefix pqv: <http://www.wikidata.org/prop/qualifier/value/> .\n",
      "@prefix pqn: <http://www.wikidata.org/prop/qualifier/value-normalized/> .\n",
      "@prefix prov: <http://www.w3.org/ns/prov#> .\n",
      "@prefix skos: <http://www.w3.org/2004/02/skos/core#> .\n",
      "gzip: error writing to output: Broken pipe\n",
      "gzip: /Users/rijulvohra/Documents/work/Novartis-ISI/blazegraph-load-Noartis-ISI-pipeline/blazegraph-load-pipeline/blazegraph_load_pipeline_2/data/rxnorm_converted/rxnorm_triple.ttl.gz: uncompress failed\n"
     ]
    }
   ],
   "source": [
    "##generate_wikidata_triples\n",
    "#Run only generate triples\n",
    "'''\n",
    "1. This cell will run only if you just want to generate triples aligned to wikidata schema. \n",
    "It will first concatenate the KGTK edge files and then will use the KGTK generate_wikidata_triples \n",
    "command to generate triples for the concatenated file.\n",
    "\n",
    "2. The generate_wikidata_triples takes in the properities file path as a parameter. \n",
    "The properties file should have the data_type mentioned for each of the property used in the KGTK edge file.\n",
    "\n",
    "3. The generated triple file is then gzipped.\n",
    "'''\n",
    "\n",
    "if gen_triples:\n",
    "    output_concat = generate_concat_files(kgtk_files, kgtk_path, output_filename) # Concatenate the kgtk edge files\n",
    "    \n",
    "    print()\n",
    "    \n",
    "    print(color.BOLD + 'Concatenated edge file is present at:' + color.END,end = ' ')\n",
    "    print(output_concat)\n",
    "    \n",
    "    print()\n",
    "    \n",
    "    print(color.BOLD + '------------Head of the concatenated KGTK edge file-------------' + color.END)\n",
    "    \n",
    "    print()\n",
    "    \n",
    "    ! gzip -cd $output_concat | head -n 20\n",
    "\n",
    "    gen_triple_input = os.path.join(kgtk_path,output_filename)\n",
    "    triple_output_save_path = os.path.join(kgtk_path,triple_filename) # Name of the output triple file\n",
    "    log_save_path = os.path.join(kgtk_path,triple_generation_log) # Name of the log file\n",
    "    \n",
    "    # generate the triples\n",
    "    !time cat $gen_triple_input | kgtk generate_wikidata_triples -ap aliases,alias -lp label -dp description \\\n",
    "                                                                 -pf $properties_file_path \\\n",
    "                                                                 -n 100000 \\\n",
    "                                                                 --debug \\\n",
    "                                                                 -gt yes -gz yes -w yes \\\n",
    "                                                                 -log $log_save_path > $triple_output_save_path\n",
    "\n",
    "    \n",
    "    # gzip the triple file\n",
    "    with open(triple_output_save_path, 'rb') as f_in:\n",
    "        with gzip.open(triple_output_save_path + '.gz', 'wb') as f_out:\n",
    "            shutil.copyfileobj(f_in, f_out)\n",
    "            os.remove(f_in.name)\n",
    "    \n",
    "    print()\n",
    "            \n",
    "    print(color.BOLD + 'The triple file is generated and saved at:' + color.END,end = ' ')\n",
    "    print(triple_output_save_path + '.gz')\n",
    "    \n",
    "    triple_path = triple_output_save_path + '.gz'\n",
    "    \n",
    "    print()\n",
    "    \n",
    "    print(color.BOLD + '------------Head of the triple file-------------' + color.END)\n",
    "    \n",
    "    print()\n",
    "    \n",
    "    ! gzip -cd $triple_path | head -n 20\n",
    "    \n",
    "    "
   ]
  },
  {
   "cell_type": "markdown",
   "metadata": {
    "papermill": {
     "duration": 0.011581,
     "end_time": "2020-10-27T01:23:07.074598",
     "exception": false,
     "start_time": "2020-10-27T01:23:07.063017",
     "status": "completed"
    },
    "tags": []
   },
   "source": [
    "### Load Triples"
   ]
  },
  {
   "cell_type": "code",
   "execution_count": 9,
   "metadata": {
    "execution": {
     "iopub.execute_input": "2020-10-27T01:23:07.101363Z",
     "iopub.status.busy": "2020-10-27T01:23:07.100537Z",
     "iopub.status.idle": "2020-10-27T01:23:07.103764Z",
     "shell.execute_reply": "2020-10-27T01:23:07.103246Z"
    },
    "papermill": {
     "duration": 0.019899,
     "end_time": "2020-10-27T01:23:07.103921",
     "exception": false,
     "start_time": "2020-10-27T01:23:07.084022",
     "status": "completed"
    },
    "tags": []
   },
   "outputs": [],
   "source": [
    "# Exception Functions\n",
    "class PortInUseError(BaseException):\n",
    "    \"\"\"\n",
    "    Exception class for generating error if the passed ports are already in use.\n",
    "    \n",
    "    \"\"\"\n",
    "    def __init__(self,value):\n",
    "        self.value = value\n",
    "\n",
    "\n",
    "class DockerNameInUse(BaseException):\n",
    "    \"\"\"\n",
    "    Exception class for generating error if the passed Docker Name is already in use.\n",
    "    \n",
    "    \"\"\"\n",
    "    def __init__(self,value):\n",
    "        self.value = value\n"
   ]
  },
  {
   "cell_type": "code",
   "execution_count": 10,
   "metadata": {
    "execution": {
     "iopub.execute_input": "2020-10-27T01:23:07.138936Z",
     "iopub.status.busy": "2020-10-27T01:23:07.138309Z",
     "iopub.status.idle": "2020-10-27T01:23:07.140415Z",
     "shell.execute_reply": "2020-10-27T01:23:07.140916Z"
    },
    "papermill": {
     "duration": 0.026224,
     "end_time": "2020-10-27T01:23:07.141163",
     "exception": false,
     "start_time": "2020-10-27T01:23:07.114939",
     "status": "completed"
    },
    "tags": []
   },
   "outputs": [],
   "source": [
    "class BlazegraphLoad():\n",
    "    '''\n",
    "    The class is used to create a new or use an existing wikibase-docker instance to load \n",
    "    a given gzipped ttl file to a blazegraph triple store.\n",
    "    '''\n",
    "    def __init__(self,ttl_path,wikibase_ui_port,wikibase_sparql,wikibase_proxy,wikibase_qs,wikibase_volume,\n",
    "                 create_new,docker_name,stop_docker,blazegraph_image,query_service_name):\n",
    "        '''\n",
    "        Initializing the class variables and Setting the environment variables \n",
    "        that will be used by the docker-compose.pipeline.yml file.\n",
    "        \n",
    "        '''\n",
    "        self.ttl_path = os.path.join(dirname,ttl_path)\n",
    "        self.wikibase_ui_port = str(wikibase_ui_port)\n",
    "        self.wikibase_sparql = str(wikibase_sparql)\n",
    "        self.wikibase_proxy = str(wikibase_proxy)\n",
    "        self.wikibase_qs = str(wikibase_qs)\n",
    "        self.wikibase_volume = wikibase_volume\n",
    "        self.create_new = create_new\n",
    "        self.docker_name = docker_name\n",
    "        self.stop_docker = stop_docker\n",
    "        self.blazegraph_image = blazegraph_image\n",
    "        self.query_service_name = query_service_name\n",
    "        os.environ['WIKIBASE_UI'] = self.wikibase_ui_port\n",
    "        os.environ['WIKIBASE_SPARQL'] = self.wikibase_sparql\n",
    "        os.environ['WIKIBASE_PROXY'] = self.wikibase_proxy\n",
    "        os.environ['WIKIBASE_QS'] = self.wikibase_qs\n",
    "        os.environ['WIKIBASE_VOLUME'] = self.wikibase_volume\n",
    "        os.environ['BLAZEGRAPH_IMAGE'] = self.blazegraph_image\n",
    "        os.environ['QUERY_SERVICE_NAME'] = self.query_service_name\n",
    "\n",
    "    @staticmethod\n",
    "    def check_availability():\n",
    "        '''\n",
    "        1. The function checks whether the passed ports are available or not. If anyone of the passed port\n",
    "        is not available, then it will generate an error.\n",
    "        2. The functions also checks if the passed docker name is available or not. If the docker name is \n",
    "        already in use it will generate an error.\n",
    "        '''\n",
    "\n",
    "        wikibase_ui = os.getenv('WIKIBASE_UI')\n",
    "        wikibase_sparql = os.getenv('WIKIBASE_SPARQL')\n",
    "        wikibase_proxy = os.getenv('WIKIBASE_PROXY')\n",
    "        wikibase_qs = os.getenv('WIKIBASE_QS')\n",
    "        with socket.socket(socket.AF_INET, socket.SOCK_STREAM) as s:\n",
    "            wikibase_ui_usage = s.connect_ex(('localhost', int(wikibase_ui))) == 0\n",
    "            wikibase_sparql_usage = s.connect_ex(('localhost', int(wikibase_sparql))) == 0\n",
    "            wikibase_proxy_usage = s.connect_ex(('localhost', int(wikibase_proxy))) == 0\n",
    "            wikibase_qs_usage = s.connect_ex(('localhost', int(wikibase_qs))) == 0\n",
    "        docker_name_availability = subprocess.Popen(['docker', 'ps', '--filter', 'name={}'.format(docker_name)],\n",
    "                                                    stdin=subprocess.PIPE, stdout=subprocess.PIPE)\n",
    "        try:\n",
    "            if create_new:\n",
    "                if wikibase_ui_usage:\n",
    "                    raise PortInUseError('Wikibase UI Port is in use')\n",
    "                if wikibase_sparql_usage:\n",
    "                    raise PortInUseError('Wikibase Sparql Port is in use')\n",
    "                if wikibase_proxy_usage:\n",
    "                    raise PortInUseError('Wikibase Proxy Port is in use')\n",
    "                if wikibase_qs_usage:\n",
    "                    raise PortInUseError('Wikibase QS Port is in use')\n",
    "            if len(docker_name_availability.communicate()[0]) > 126:\n",
    "                raise DockerNameInUse('Try changing docker container name')\n",
    "            print(docker_name_availability)\n",
    "        except PortInUseError as Argument:\n",
    "            raise ('Error Message:', Argument)\n",
    "            sys.exit(1)\n",
    "\n",
    "        except DockerNameInUse as Argument:\n",
    "            raise ('Error Message:', Argument)\n",
    "            sys.exit(1)\n",
    "        return True\n",
    "\n",
    "    @staticmethod\n",
    "    def load_data():\n",
    "        '''\n",
    "        The function is used to load a gzipped ttl file to the Blazegraph triple store.\n",
    "        '''\n",
    "        l_data = subprocess.Popen(\n",
    "            ['docker', 'exec', '{}_wdqs_1'.format(docker_name), '/wdqs/loadData.sh', '-n', 'wdq', '-d',\n",
    "             '/instancestore/wikibase/mungeOut'], stdin=subprocess.PIPE, stdout=subprocess.PIPE)\n",
    "        print(l_data.communicate()[0])\n",
    "\n",
    "    def driver_fn(self):\n",
    "        '''\n",
    "        This is the main driver function which first checks if the user wants to create a new docker instance.\n",
    "        \n",
    "        '''\n",
    "        if self.create_new:\n",
    "            all_parameters = self.check_availability() # checks the availability of the ports and the docker name\n",
    "            if all_parameters:\n",
    "                # creates a new docker container\n",
    "                create_docker = subprocess.Popen(\n",
    "                    ['docker-compose', '-f', 'docker-compose.pipeline.yml', '-p', docker_name, 'up', '-d'],\n",
    "                    stdin=subprocess.PIPE, stdout=subprocess.PIPE)\n",
    "                create_docker.communicate()\n",
    "\n",
    "        if self.stop_docker == 'Yes' or self.stop_docker == 'yes':\n",
    "            docker_stop = subprocess.Popen(\n",
    "                ['docker-compose', '-f', 'docker-compose.pipeline.yml', '-p', docker_name, 'down', '-v'],\n",
    "                stdin=subprocess.PIPE, stdout=subprocess.PIPE)\n",
    "            docker_stop.communicate()\n",
    "            sys.exit(1)\n",
    "\n",
    "        # checks if the directory which needs to be mounted on the docker container is present. \n",
    "        # If not recursively creates a directory. Also moves the triple file that needs to be loaded to this directory\n",
    "        if os.path.isdir(os.getenv('WIKIBASE_VOLUME') + '/mungeOut'):\n",
    "            shutil.copy(ttl_path, os.path.join(os.getenv('WIKIBASE_VOLUME'), 'mungeOut/wikidump-000000001.ttl.gz'))\n",
    "        else:\n",
    "            os.makedirs(os.path.join(os.getenv('WIKIBASE_VOLUME'), 'mungeOut'))\n",
    "            shutil.copy(ttl_path, os.path.join(os.getenv('WIKIBASE_VOLUME'), 'mungeOut/wikidump-000000001.ttl.gz'))\n",
    "\n",
    "        time.sleep(40) # Wait time to let the docker containers start before the loading function is called\n",
    "\n",
    "        self.load_data()\n",
    "        os.remove(os.path.join(os.getenv('WIKIBASE_VOLUME'), 'mungeOut/wikidump-000000001.ttl.gz'))"
   ]
  },
  {
   "cell_type": "code",
   "execution_count": 11,
   "metadata": {
    "execution": {
     "iopub.execute_input": "2020-10-27T01:23:07.164176Z",
     "iopub.status.busy": "2020-10-27T01:23:07.163604Z",
     "iopub.status.idle": "2020-10-27T01:24:23.159659Z",
     "shell.execute_reply": "2020-10-27T01:24:23.160229Z"
    },
    "papermill": {
     "duration": 76.010215,
     "end_time": "2020-10-27T01:24:23.160409",
     "exception": false,
     "start_time": "2020-10-27T01:23:07.150194",
     "status": "completed"
    },
    "tags": []
   },
   "outputs": [
    {
     "name": "stdout",
     "output_type": "stream",
     "text": [
      "\u001b[1m------------Log output of loading the triple file to Blazegraph-------------\u001b[0m\n",
      "\n",
      "b'Processing wikidump-000000001.ttl.gz\\n<!DOCTYPE HTML PUBLIC \"-//W3C//DTD HTML 4.01 Transitional//EN\" \"http://www.w3.org/TR/html4/loose.dtd\"><html><head><meta http-equiv=\"Content-Type\" content=\"text&#47;html;charset=UTF-8\"><title>blazegraph&trade; by SYSTAP</title\\n></head\\n><body<p>totalElapsed=4822ms, elapsed=4822ms, connFlush=0ms, batchResolve=0, whereClause=0ms, deleteClause=0ms, insertClause=0ms</p\\n><hr><p>COMMIT: totalElapsed=35369ms, commitTime=1603761859022, mutationCount=798980</p\\n></html\\n>File wikidump-000000002.ttl.gz not found, terminating\\n'\n"
     ]
    }
   ],
   "source": [
    "# Run only load triples\n",
    "'''\n",
    "1. This cell is used to load a given triple file to blazegraph triple store.\n",
    "\n",
    "2. It will run only if the parameter only_load_triples is set to True\n",
    "'''\n",
    "if (gen_triples and load_triples) or load_triples:\n",
    "    if gen_triples:\n",
    "        ttl_path = triple_path\n",
    "    print(color.BOLD + '------------Log output of loading the triple file to Blazegraph-------------' + color.END)\n",
    "    print()\n",
    "    loader_obj = BlazegraphLoad(ttl_path,wikibase_ui_port,wikibase_sparql_port,wikibase_proxy_port,wikibase_qs_port,\n",
    "                                    wikibase_volume,create_new,docker_name,stop_docker,blazegraph_image,query_service_name)\n",
    "    loader_obj.driver_fn()"
   ]
  },
  {
   "cell_type": "code",
   "execution_count": 12,
   "metadata": {
    "execution": {
     "iopub.execute_input": "2020-10-27T01:24:23.189945Z",
     "iopub.status.busy": "2020-10-27T01:24:23.189237Z",
     "iopub.status.idle": "2020-10-27T01:24:23.192416Z",
     "shell.execute_reply": "2020-10-27T01:24:23.192840Z"
    },
    "papermill": {
     "duration": 0.023041,
     "end_time": "2020-10-27T01:24:23.193109",
     "exception": false,
     "start_time": "2020-10-27T01:24:23.170068",
     "status": "completed"
    },
    "tags": []
   },
   "outputs": [
    {
     "data": {
      "text/html": [
       "<a href=\"http://localhost:10002\">Sparql Endpoint</a>"
      ],
      "text/plain": [
       "<IPython.core.display.HTML object>"
      ]
     },
     "metadata": {},
     "output_type": "display_data"
    }
   ],
   "source": [
    "# Generate a link to SPARQL ENDPOINT only if triples are loaded to Blazegraph\n",
    "\n",
    "if load_triples:\n",
    "    s = \"\"\"<a href=\"http://localhost:{}\">Sparql Endpoint</a>\"\"\".format(wikibase_sparql_port)\n",
    "    display(HTML(s))\n",
    "    "
   ]
  }
 ],
 "metadata": {
  "celltoolbar": "Tags",
  "kernelspec": {
   "display_name": "Python 3",
   "language": "python",
   "name": "python3"
  },
  "language_info": {
   "codemirror_mode": {
    "name": "ipython",
    "version": 3
   },
   "file_extension": ".py",
   "mimetype": "text/x-python",
   "name": "python",
   "nbconvert_exporter": "python",
   "pygments_lexer": "ipython3",
   "version": "3.7.9"
  },
  "papermill": {
   "default_parameters": {},
   "duration": 225.722662,
   "end_time": "2020-10-27T01:24:23.418882",
   "environment_variables": {},
   "exception": null,
   "input_path": "combined_pipeline.ipynb",
   "output_path": "rxnorm_gen_triple_op.ipynb",
   "parameters": {
    "gen_triples": true,
    "kgtk_path": "/Users/rijulvohra/Documents/work/Novartis-ISI/blazegraph-load-Noartis-ISI-pipeline/blazegraph-load-pipeline/blazegraph_load_pipeline_2/data/rxnorm_converted/Qrx_qnode_rx_un.tsv.gz",
    "load_triples": true,
    "output_filename": "rxnorm_concat_full.tsv.gz",
    "properties_file_path": "./data/rxnorm/pnode_rx_un.tsv",
    "triple_filename": "rxnorm_triple.ttl",
    "triple_generation_log": "rxnorm_log.txt"
   },
   "start_time": "2020-10-27T01:20:37.696220",
   "version": "2.2.0"
  }
 },
 "nbformat": 4,
 "nbformat_minor": 4
}
