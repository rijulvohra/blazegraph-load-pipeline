{
 "cells": [
  {
   "cell_type": "code",
   "execution_count": 1,
   "metadata": {
    "tags": [
     "parameters"
    ]
   },
   "outputs": [],
   "source": [
    "# Generate triples parameter\n",
    "\n",
    "#kgtk_path takes in the directory which contains the kgtk subgraph\n",
    "kgtk_path = '/Users/rijulvohra/Documents/work/Novartis-ISI/kgtk_development/data/Q28885102'\n",
    "output_filename = 'pharma_product_concat.tsv.gz'\n",
    "triple_filename = 'pharma_triple.ttl'\n",
    "triple_generation_log = 'pharma_log.txt'\n",
    "properties_file_path = './properties.tsv'\n",
    "\n",
    "# Load triples to blazegraph\n",
    "wikibase_ui_port = '10001'\n",
    "wikibase_sparql_port = '10002'\n",
    "wikibase_proxy_port = '10003'\n",
    "wikibase_qs_port = '10005'\n",
    "wikibase_volume = '.'\n",
    "docker_name = 'blazegraphpipeline'\n",
    "create_new = False\n",
    "stop_docker = \"No\"\n",
    "blazegraph_image = 'wikibase/wdqs:0.3.10'\n",
    "ttl_path = ''\n",
    "\n",
    "#Parameterize whether you want to run just the generate_wikidata_triples part or loading to blazegraph part\n",
    "only_gen_triples = False\n",
    "only_load_triples = False\n",
    "both_gen_and_load_triples = False"
   ]
  },
  {
   "cell_type": "code",
   "execution_count": 2,
   "metadata": {},
   "outputs": [
    {
     "name": "stdout",
     "output_type": "stream",
     "text": [
      "/Users/rijulvohra/Documents/work/Novartis-ISI/kgtk_development/data/Q28885102\n",
      "/Users/rijulvohra/Documents/work/Novartis-ISI/blazegraph-load-Noartis-ISI-pipeline/blazegraph-load-pipeline/blazegraph_load_pipeline_2/volume\n"
     ]
    }
   ],
   "source": [
    "import os\n",
    "import re\n",
    "import subprocess\n",
    "import gzip\n",
    "import subprocess\n",
    "import socket\n",
    "import sys\n",
    "import shutil\n",
    "import time\n",
    "dirname = os.path.abspath('')\n",
    "kgtk_path = os.path.join(dirname,kgtk_path)\n",
    "wikibase_volume = os.path.join(dirname,'volume')\n",
    "print(kgtk_path)\n",
    "print(wikibase_volume)"
   ]
  },
  {
   "cell_type": "code",
   "execution_count": null,
   "metadata": {},
   "outputs": [],
   "source": [
    "!python -m spacy download en_core_web_sm"
   ]
  },
  {
   "cell_type": "markdown",
   "metadata": {},
   "source": [
    "### Generate Wikidata triples"
   ]
  },
  {
   "cell_type": "code",
   "execution_count": null,
   "metadata": {},
   "outputs": [],
   "source": [
    "def get_uncompressed_size(file):\n",
    "    pipe_in = os.popen('gzip -l %s' % file)\n",
    "    list_1 = pipe_in.readlines()\n",
    "    list_2 = list_1[1].split()\n",
    "    c , u , r , n = list_2\n",
    "    return int(u)"
   ]
  },
  {
   "cell_type": "code",
   "execution_count": null,
   "metadata": {},
   "outputs": [],
   "source": [
    "%%time\n",
    "def find_files(path):\n",
    "    kgtk_files = []\n",
    "    for file_name in os.listdir(path):\n",
    "        if file_name.startswith('Q') and file_name.endswith('.gz'):\n",
    "            if re.search('.statistics.tsv.gz',file_name) or re.search('.P279star.tsv.gz',file_name):\n",
    "                continue\n",
    "            if get_uncompressed_size(os.path.join(kgtk_path,file_name)):\n",
    "                kgtk_files.append(os.path.join(kgtk_path,file_name))\n",
    "    return kgtk_files\n",
    "kgtk_files = find_files(kgtk_path)"
   ]
  },
  {
   "cell_type": "code",
   "execution_count": null,
   "metadata": {},
   "outputs": [],
   "source": [
    "%%time\n",
    "def generate_concat_files(kgtk_files, path, output_filename):\n",
    "    concat_input = ' '.join(kgtk_files)\n",
    "    output_concat = os.path.join(kgtk_path,output_filename)\n",
    "    !kgtk cat -o $output_concat -i $concat_input\n"
   ]
  },
  {
   "cell_type": "code",
   "execution_count": null,
   "metadata": {},
   "outputs": [],
   "source": [
    "##generate_wikidata_triples\n",
    "#Run only generate triples\n",
    "if only_gen_triples:\n",
    "    generate_concat_files(kgtk_files, kgtk_path, output_filename)\n",
    "\n",
    "    gen_triple_input = os.path.join(kgtk_path,output_filename)\n",
    "    triple_output_save_path = os.path.join(kgtk_path,triple_filename)\n",
    "    log_save_path = os.path.join(kgtk_path,triple_generation_log)\n",
    "    !time cat $gen_triple_input | kgtk generate_wikidata_triples -ap aliases,alias -lp label -dp description \\\n",
    "                                                                 -pf $properties_file_path \\\n",
    "                                                                 -n 100000 \\\n",
    "                                                                 --debug \\\n",
    "                                                                 -gt yes -gz yes -w yes \\\n",
    "                                                                 -log $log_save_path > $triple_output_save_path\n",
    "    !gzip -f $triple_output_save_path"
   ]
  },
  {
   "cell_type": "markdown",
   "metadata": {},
   "source": [
    "### Load Triples"
   ]
  },
  {
   "cell_type": "code",
   "execution_count": null,
   "metadata": {},
   "outputs": [],
   "source": []
  },
  {
   "cell_type": "code",
   "execution_count": null,
   "metadata": {},
   "outputs": [],
   "source": [
    "# Exception Functions\n",
    "class PortInUseError(BaseException):\n",
    "    \"\"\"Base class for other exceptions\"\"\"\n",
    "    def __init__(self,value):\n",
    "        self.value = value\n",
    "\n",
    "\n",
    "class DockerNameInUse(BaseException):\n",
    "\n",
    "    def __init__(self,value):\n",
    "        self.value = value\n"
   ]
  },
  {
   "cell_type": "code",
   "execution_count": null,
   "metadata": {},
   "outputs": [],
   "source": [
    "class BlazegraphLoad():\n",
    "    def __init__(self,ttl_path,wikibase_ui_port,wikibase_sparql,wikibase_proxy,wikibase_qs,wikibase_volume,\n",
    "                 create_new,docker_name,stop_docker,blazegraph_image):\n",
    "        self.ttl_path = os.path.join(dirname,ttl_path)\n",
    "        self.wikibase_ui_port = str(wikibase_ui_port)\n",
    "        self.wikibase_sparql = str(wikibase_sparql)\n",
    "        self.wikibase_proxy = str(wikibase_proxy)\n",
    "        self.wikibase_qs = str(wikibase_qs)\n",
    "        self.wikibase_volume = wikibase_volume\n",
    "        self.create_new = create_new\n",
    "        self.docker_name = docker_name\n",
    "        self.stop_docker = stop_docker\n",
    "        self.blazegraph_image = blazegraph_image\n",
    "        os.environ['WIKIBASE_UI'] = self.wikibase_ui_port\n",
    "        os.environ['WIKIBASE_SPARQL'] = self.wikibase_sparql\n",
    "        os.environ['WIKIBASE_PROXY'] = self.wikibase_proxy\n",
    "        os.environ['WIKIBASE_QS'] = self.wikibase_qs\n",
    "        os.environ['WIKIBASE_VOLUME'] = self.wikibase_volume\n",
    "        os.environ['BLAZEGRAPH_IMAGE'] = self.blazegraph_image\n",
    "\n",
    "    @staticmethod\n",
    "    def check_availability():\n",
    "\n",
    "        wikibase_ui = os.getenv('WIKIBASE_UI')\n",
    "        wikibase_sparql = os.getenv('WIKIBASE_SPARQL')\n",
    "        wikibase_proxy = os.getenv('WIKIBASE_PROXY')\n",
    "        wikibase_qs = os.getenv('WIKIBASE_QS')\n",
    "        with socket.socket(socket.AF_INET, socket.SOCK_STREAM) as s:\n",
    "            wikibase_ui_usage = s.connect_ex(('localhost', int(wikibase_ui))) == 0\n",
    "            wikibase_sparql_usage = s.connect_ex(('localhost', int(wikibase_sparql))) == 0\n",
    "            wikibase_proxy_usage = s.connect_ex(('localhost', int(wikibase_proxy))) == 0\n",
    "            wikibase_qs_usage = s.connect_ex(('localhost', int(wikibase_qs))) == 0\n",
    "        docker_name_availability = subprocess.Popen(['docker', 'ps', '--filter', 'name={}'.format(docker_name)],\n",
    "                                                    stdin=subprocess.PIPE, stdout=subprocess.PIPE)\n",
    "        try:\n",
    "            if create_new:\n",
    "                if wikibase_ui_usage:\n",
    "                    raise PortInUseError('Wikibase UI Port is in use')\n",
    "                if wikibase_sparql_usage:\n",
    "                    raise PortInUseError('Wikibase Sparql Port is in use')\n",
    "                if wikibase_proxy_usage:\n",
    "                    raise PortInUseError('Wikibase Proxy Port is in use')\n",
    "                if wikibase_qs_usage:\n",
    "                    raise PortInUseError('Wikibase QS Port is in use')\n",
    "            if len(docker_name_availability.communicate()[0]) > 126:\n",
    "                raise DockerNameInUse('Try changing docker container name')\n",
    "            print(docker_name_availability)\n",
    "        except PortInUseError as Argument:\n",
    "            raise ('Error Message:', Argument)\n",
    "            sys.exit(1)\n",
    "\n",
    "        except DockerNameInUse as Argument:\n",
    "            raise ('Error Message:', Argument)\n",
    "            sys.exit(1)\n",
    "        return True\n",
    "\n",
    "    @staticmethod\n",
    "    def load_data():\n",
    "        l_data = subprocess.Popen(\n",
    "            ['docker', 'exec', '{}_wdqs_1'.format(docker_name), '/wdqs/loadData.sh', '-n', 'wdq', '-d',\n",
    "             '/instancestore/wikibase/mungeOut'], stdin=subprocess.PIPE, stdout=subprocess.PIPE)\n",
    "        print(l_data.communicate()[0])\n",
    "\n",
    "    def driver_fn(self):\n",
    "        if self.create_new:\n",
    "            all_parameters = self.check_availability()\n",
    "            if all_parameters:\n",
    "                create_docker = subprocess.Popen(\n",
    "                    ['docker-compose', '-f', 'docker-compose.pipeline.yml', '-p', docker_name, 'up', '-d'],\n",
    "                    stdin=subprocess.PIPE, stdout=subprocess.PIPE)\n",
    "                create_docker.communicate()\n",
    "\n",
    "        if self.stop_docker == 'Yes' or self.stop_docker == 'yes':\n",
    "            docker_stop = subprocess.Popen(\n",
    "                ['docker-compose', '-f', 'docker-compose.pipeline.yml', '-p', docker_name, 'down', '-v'],\n",
    "                stdin=subprocess.PIPE, stdout=subprocess.PIPE)\n",
    "            docker_stop.communicate()\n",
    "            sys.exit(1)\n",
    "\n",
    "        if os.path.isdir(os.getenv('WIKIBASE_VOLUME') + '/mungeOut'):\n",
    "            shutil.copy(ttl_path, os.path.join(os.getenv('WIKIBASE_VOLUME'), 'mungeOut/wikidump-000000001.ttl.gz'))\n",
    "        else:\n",
    "            os.makedirs(os.path.join(os.getenv('WIKIBASE_VOLUME'), 'mungeOut'))\n",
    "            shutil.copy(ttl_path, os.path.join(os.getenv('WIKIBASE_VOLUME'), 'mungeOut/wikidump-000000001.ttl.gz'))\n",
    "\n",
    "        time.sleep(40)\n",
    "\n",
    "        self.load_data()\n",
    "        os.remove(os.path.join(os.getenv('WIKIBASE_VOLUME'), 'mungeOut/wikidump-000000001.ttl.gz'))"
   ]
  },
  {
   "cell_type": "code",
   "execution_count": null,
   "metadata": {},
   "outputs": [],
   "source": [
    "# Run only load triples\n",
    "if only_load_triples:\n",
    "    loader_obj = BlazegraphLoad(ttl_path,wikibase_ui_port,wikibase_sparql_port,wikibase_proxy_port,wikibase_qs_port,\n",
    "                                    wikibase_volume,create_new,docker_name,stop_docker,blazegraph_image)\n",
    "    loader_obj.driver_fn()"
   ]
  },
  {
   "cell_type": "code",
   "execution_count": null,
   "metadata": {},
   "outputs": [],
   "source": [
    "# Run both the pipeline\n",
    "if both_gen_and_load_triples:\n",
    "    generate_concat_files(kgtk_files, kgtk_path, output_filename)\n",
    "\n",
    "    gen_triple_input = os.path.join(kgtk_path,output_filename)\n",
    "    triple_output_save_path = os.path.join(kgtk_path,triple_filename)\n",
    "    log_save_path = os.path.join(kgtk_path,triple_generation_log)\n",
    "    !time cat $gen_triple_input | kgtk generate_wikidata_triples -ap aliases,alias -lp label -dp description \\\n",
    "                                                                 -pf $properties_file_path \\\n",
    "                                                                 -n 100000 \\\n",
    "                                                                 --debug \\\n",
    "                                                                 -gt yes -gz yes -w yes \\\n",
    "                                                                 -log $log_save_path > $triple_output_save_path\n",
    "    ttl_path = triple_output_save_path + '.gz'\n",
    "    \n",
    "    loader_obj = BlazegraphLoad(ttl_path,wikibase_ui_port,wikibase_sparql_port,wikibase_proxy_port,wikibase_qs_port,\n",
    "                                    wikibase_volume,create_new,docker_name,stop_docker,blazegraph_image)\n",
    "    loader_obj.driver_fn()"
   ]
  }
 ],
 "metadata": {
  "celltoolbar": "Tags",
  "kernelspec": {
   "display_name": "Python 3",
   "language": "python",
   "name": "python3"
  },
  "language_info": {
   "codemirror_mode": {
    "name": "ipython",
    "version": 3
   },
   "file_extension": ".py",
   "mimetype": "text/x-python",
   "name": "python",
   "nbconvert_exporter": "python",
   "pygments_lexer": "ipython3",
   "version": "3.7.9"
  }
 },
 "nbformat": 4,
 "nbformat_minor": 4
}
