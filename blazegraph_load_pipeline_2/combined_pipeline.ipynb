{
 "cells": [
  {
   "cell_type": "code",
   "execution_count": 7,
   "metadata": {
    "tags": [
     "parameters"
    ]
   },
   "outputs": [],
   "source": [
    "# Generate triples parameter\n",
    "\n",
    "#kgtk_path takes in the directory which contains the kgtk subgraph\n",
    "kgtk_path = '/Users/rijulvohra/Documents/work/Novartis-ISI/kgtk_development/data/Q28885102'\n",
    "output_filename = 'pharma_product_concat2.tsv.gz'\n",
    "triple_filename = 'pharma_triple2.ttl'\n",
    "triple_generation_log = 'pharma_log2.txt'\n",
    "properties_file_path = './properties.tsv'\n",
    "\n",
    "# Load triples to blazegraph\n",
    "wikibase_ui_port = '10001'\n",
    "wikibase_sparql_port = '10002'\n",
    "wikibase_proxy_port = '10003'\n",
    "wikibase_qs_port = '10005'\n",
    "wikibase_volume = '.'\n",
    "docker_name = 'blazegraphpipeline'\n",
    "create_new = False\n",
    "stop_docker = \"No\"\n",
    "blazegraph_image = 'wikibase/wdqs:0.3.10'\n",
    "ttl_path = ''\n",
    "query_service_name = 'Novartis-ISI Query Service'\n",
    "\n",
    "#Parameterize whether you want to run just the generate_wikidata_triples part or loading to blazegraph part\n",
    "only_gen_triples = False\n",
    "only_load_triples = False\n",
    "both_gen_and_load_triples = False"
   ]
  },
  {
   "cell_type": "code",
   "execution_count": 8,
   "metadata": {},
   "outputs": [
    {
     "name": "stdout",
     "output_type": "stream",
     "text": [
      "/Users/rijulvohra/Documents/work/Novartis-ISI/kgtk_development/data/Q28885102\n",
      "/Users/rijulvohra/Documents/work/Novartis-ISI/blazegraph-load-Noartis-ISI-pipeline/blazegraph-load-pipeline/blazegraph_load_pipeline_2/volume\n"
     ]
    }
   ],
   "source": [
    "import os\n",
    "import re\n",
    "import subprocess\n",
    "import gzip\n",
    "import subprocess\n",
    "import socket\n",
    "import sys\n",
    "import shutil\n",
    "import time\n",
    "dirname = os.path.abspath('')\n",
    "kgtk_path = os.path.join(dirname,kgtk_path)\n",
    "wikibase_volume = os.path.join(dirname,'volume')\n",
    "print(kgtk_path)\n",
    "print(wikibase_volume)"
   ]
  },
  {
   "cell_type": "code",
   "execution_count": 3,
   "metadata": {},
   "outputs": [
    {
     "name": "stdout",
     "output_type": "stream",
     "text": [
      "Requirement already satisfied: en_core_web_sm==2.2.5 from https://github.com/explosion/spacy-models/releases/download/en_core_web_sm-2.2.5/en_core_web_sm-2.2.5.tar.gz#egg=en_core_web_sm==2.2.5 in /Users/rijulvohra/opt/anaconda3/envs/blazegraph_load_env/lib/python3.7/site-packages (2.2.5)\n",
      "Requirement already satisfied: spacy>=2.2.2 in /Users/rijulvohra/opt/anaconda3/envs/blazegraph_load_env/lib/python3.7/site-packages (from en_core_web_sm==2.2.5) (2.2.4)\n",
      "Requirement already satisfied: thinc==7.4.0 in /Users/rijulvohra/opt/anaconda3/envs/blazegraph_load_env/lib/python3.7/site-packages (from spacy>=2.2.2->en_core_web_sm==2.2.5) (7.4.0)\n",
      "Requirement already satisfied: catalogue<1.1.0,>=0.0.7 in /Users/rijulvohra/opt/anaconda3/envs/blazegraph_load_env/lib/python3.7/site-packages (from spacy>=2.2.2->en_core_web_sm==2.2.5) (1.0.0)\n",
      "Requirement already satisfied: murmurhash<1.1.0,>=0.28.0 in /Users/rijulvohra/opt/anaconda3/envs/blazegraph_load_env/lib/python3.7/site-packages (from spacy>=2.2.2->en_core_web_sm==2.2.5) (1.0.2)\n",
      "Requirement already satisfied: tqdm<5.0.0,>=4.38.0 in /Users/rijulvohra/opt/anaconda3/envs/blazegraph_load_env/lib/python3.7/site-packages (from spacy>=2.2.2->en_core_web_sm==2.2.5) (4.50.2)\n",
      "Requirement already satisfied: plac<1.2.0,>=0.9.6 in /Users/rijulvohra/opt/anaconda3/envs/blazegraph_load_env/lib/python3.7/site-packages (from spacy>=2.2.2->en_core_web_sm==2.2.5) (1.1.3)\n",
      "Requirement already satisfied: wasabi<1.1.0,>=0.4.0 in /Users/rijulvohra/opt/anaconda3/envs/blazegraph_load_env/lib/python3.7/site-packages (from spacy>=2.2.2->en_core_web_sm==2.2.5) (0.8.0)\n",
      "Requirement already satisfied: srsly<1.1.0,>=1.0.2 in /Users/rijulvohra/opt/anaconda3/envs/blazegraph_load_env/lib/python3.7/site-packages (from spacy>=2.2.2->en_core_web_sm==2.2.5) (1.0.2)\n",
      "Requirement already satisfied: numpy>=1.15.0 in /Users/rijulvohra/opt/anaconda3/envs/blazegraph_load_env/lib/python3.7/site-packages (from spacy>=2.2.2->en_core_web_sm==2.2.5) (1.19.2)\n",
      "Requirement already satisfied: preshed<3.1.0,>=3.0.2 in /Users/rijulvohra/opt/anaconda3/envs/blazegraph_load_env/lib/python3.7/site-packages (from spacy>=2.2.2->en_core_web_sm==2.2.5) (3.0.2)\n",
      "Requirement already satisfied: cymem<2.1.0,>=2.0.2 in /Users/rijulvohra/opt/anaconda3/envs/blazegraph_load_env/lib/python3.7/site-packages (from spacy>=2.2.2->en_core_web_sm==2.2.5) (2.0.3)\n",
      "Requirement already satisfied: requests<3.0.0,>=2.13.0 in /Users/rijulvohra/opt/anaconda3/envs/blazegraph_load_env/lib/python3.7/site-packages (from spacy>=2.2.2->en_core_web_sm==2.2.5) (2.24.0)\n",
      "Requirement already satisfied: blis<0.5.0,>=0.4.0 in /Users/rijulvohra/opt/anaconda3/envs/blazegraph_load_env/lib/python3.7/site-packages (from spacy>=2.2.2->en_core_web_sm==2.2.5) (0.4.1)\n",
      "Requirement already satisfied: setuptools in /Users/rijulvohra/opt/anaconda3/envs/blazegraph_load_env/lib/python3.7/site-packages (from spacy>=2.2.2->en_core_web_sm==2.2.5) (50.3.0.post20201006)\n",
      "Requirement already satisfied: importlib-metadata>=0.20; python_version < \"3.8\" in /Users/rijulvohra/opt/anaconda3/envs/blazegraph_load_env/lib/python3.7/site-packages (from catalogue<1.1.0,>=0.0.7->spacy>=2.2.2->en_core_web_sm==2.2.5) (2.0.0)\n",
      "Requirement already satisfied: urllib3!=1.25.0,!=1.25.1,<1.26,>=1.21.1 in /Users/rijulvohra/opt/anaconda3/envs/blazegraph_load_env/lib/python3.7/site-packages (from requests<3.0.0,>=2.13.0->spacy>=2.2.2->en_core_web_sm==2.2.5) (1.25.11)\n",
      "Requirement already satisfied: idna<3,>=2.5 in /Users/rijulvohra/opt/anaconda3/envs/blazegraph_load_env/lib/python3.7/site-packages (from requests<3.0.0,>=2.13.0->spacy>=2.2.2->en_core_web_sm==2.2.5) (2.10)\n",
      "Requirement already satisfied: certifi>=2017.4.17 in /Users/rijulvohra/opt/anaconda3/envs/blazegraph_load_env/lib/python3.7/site-packages (from requests<3.0.0,>=2.13.0->spacy>=2.2.2->en_core_web_sm==2.2.5) (2020.6.20)\n",
      "Requirement already satisfied: chardet<4,>=3.0.2 in /Users/rijulvohra/opt/anaconda3/envs/blazegraph_load_env/lib/python3.7/site-packages (from requests<3.0.0,>=2.13.0->spacy>=2.2.2->en_core_web_sm==2.2.5) (3.0.4)\n",
      "Requirement already satisfied: zipp>=0.5 in /Users/rijulvohra/opt/anaconda3/envs/blazegraph_load_env/lib/python3.7/site-packages (from importlib-metadata>=0.20; python_version < \"3.8\"->catalogue<1.1.0,>=0.0.7->spacy>=2.2.2->en_core_web_sm==2.2.5) (3.3.1)\n",
      "\u001b[38;5;2m✔ Download and installation successful\u001b[0m\n",
      "You can now load the model via spacy.load('en_core_web_sm')\n"
     ]
    }
   ],
   "source": [
    "!python -m spacy download en_core_web_sm"
   ]
  },
  {
   "cell_type": "markdown",
   "metadata": {},
   "source": [
    "### Generate Wikidata triples"
   ]
  },
  {
   "cell_type": "code",
   "execution_count": 24,
   "metadata": {},
   "outputs": [],
   "source": [
    "# def get_uncompressed_size(file):\n",
    "#     pipe_in = os.popen('gzip -l %s' % file)\n",
    "#     list_1 = pipe_in.readlines()\n",
    "#     list_2 = list_1[1].split()\n",
    "#     c , u , r , n = list_2\n",
    "#     return int(u)"
   ]
  },
  {
   "cell_type": "code",
   "execution_count": 9,
   "metadata": {},
   "outputs": [
    {
     "name": "stdout",
     "output_type": "stream",
     "text": [
      "['/Users/rijulvohra/Documents/work/Novartis-ISI/kgtk_development/data/Q28885102/Q28885102.part.string.tsv.gz', '/Users/rijulvohra/Documents/work/Novartis-ISI/kgtk_development/data/Q28885102/Q28885102.part.time.tsv.gz', '/Users/rijulvohra/Documents/work/Novartis-ISI/kgtk_development/data/Q28885102/Q28885102.part.commonsMedia.tsv.gz', '/Users/rijulvohra/Documents/work/Novartis-ISI/kgtk_development/data/Q28885102/Q28885102.part.monolingualtext.tsv.gz', '/Users/rijulvohra/Documents/work/Novartis-ISI/kgtk_development/data/Q28885102/Q28885102.part.url.tsv.gz', '/Users/rijulvohra/Documents/work/Novartis-ISI/kgtk_development/data/Q28885102/Q28885102.part.geo-shape.tsv.gz', '/Users/rijulvohra/Documents/work/Novartis-ISI/kgtk_development/data/Q28885102/Q28885102.part.globe-coordinate.tsv.gz', '/Users/rijulvohra/Documents/work/Novartis-ISI/kgtk_development/data/Q28885102/Q28885102.part.wikibase-item.tsv.gz', '/Users/rijulvohra/Documents/work/Novartis-ISI/kgtk_development/data/Q28885102/Q28885102.part.wikibase-form.tsv.gz', '/Users/rijulvohra/Documents/work/Novartis-ISI/kgtk_development/data/Q28885102/Q28885102.properties.tsv.gz', '/Users/rijulvohra/Documents/work/Novartis-ISI/kgtk_development/data/Q28885102/Q28885102.part.math.tsv.gz', '/Users/rijulvohra/Documents/work/Novartis-ISI/kgtk_development/data/Q28885102/Q28885102.part.musical-notation.tsv.gz', '/Users/rijulvohra/Documents/work/Novartis-ISI/kgtk_development/data/Q28885102/Q28885102.label.en.tsv.gz', '/Users/rijulvohra/Documents/work/Novartis-ISI/kgtk_development/data/Q28885102/Q28885102.part.external-id.tsv.gz', '/Users/rijulvohra/Documents/work/Novartis-ISI/kgtk_development/data/Q28885102/Q28885102.alias.en.tsv.gz', '/Users/rijulvohra/Documents/work/Novartis-ISI/kgtk_development/data/Q28885102/Q28885102.part.wikibase-property.tsv.gz', '/Users/rijulvohra/Documents/work/Novartis-ISI/kgtk_development/data/Q28885102/Q28885102.description.en.tsv.gz', '/Users/rijulvohra/Documents/work/Novartis-ISI/kgtk_development/data/Q28885102/Q28885102.part.quantity.tsv.gz']\n",
      "CPU times: user 1.05 ms, sys: 1.13 ms, total: 2.18 ms\n",
      "Wall time: 1.25 ms\n"
     ]
    }
   ],
   "source": [
    "%%time\n",
    "def find_files(path):\n",
    "    kgtk_files = []\n",
    "    for file_name in os.listdir(path):\n",
    "        if file_name.startswith('Q') and file_name.endswith('.gz'):\n",
    "            if re.search('.statistics.tsv.gz',file_name) or re.search('.P279star.tsv.gz',file_name):\n",
    "                continue\n",
    "#             if get_uncompressed_size(os.path.join(kgtk_path,file_name)):\n",
    "            kgtk_files.append(os.path.join(kgtk_path,file_name))\n",
    "    return kgtk_files\n",
    "kgtk_files = find_files(kgtk_path)\n",
    "print(kgtk_files)"
   ]
  },
  {
   "cell_type": "code",
   "execution_count": 10,
   "metadata": {},
   "outputs": [
    {
     "name": "stdout",
     "output_type": "stream",
     "text": [
      "CPU times: user 6 µs, sys: 1 µs, total: 7 µs\n",
      "Wall time: 11.2 µs\n"
     ]
    }
   ],
   "source": [
    "%%time\n",
    "def generate_concat_files(kgtk_files, path, output_filename):\n",
    "    concat_input = ' '.join(kgtk_files)\n",
    "    output_concat = os.path.join(kgtk_path,output_filename)\n",
    "    !kgtk cat -o $output_concat -i $concat_input\n"
   ]
  },
  {
   "cell_type": "code",
   "execution_count": 11,
   "metadata": {},
   "outputs": [
    {
     "name": "stdout",
     "output_type": "stream",
     "text": [
      "cat   0.00s user 0.00s system 0% cpu 9.907 total\r\n",
      "kgtk generate_wikidata_triples -ap aliases,alias -lp label -dp description -p  19.95s user 0.57s system 101% cpu 20.175 total\r\n"
     ]
    }
   ],
   "source": [
    "##generate_wikidata_triples\n",
    "#Run only generate triples\n",
    "if only_gen_triples:\n",
    "    generate_concat_files(kgtk_files, kgtk_path, output_filename)\n",
    "\n",
    "    gen_triple_input = os.path.join(kgtk_path,output_filename)\n",
    "    triple_output_save_path = os.path.join(kgtk_path,triple_filename)\n",
    "    log_save_path = os.path.join(kgtk_path,triple_generation_log)\n",
    "    !time cat $gen_triple_input | kgtk generate_wikidata_triples -ap aliases,alias -lp label -dp description \\\n",
    "                                                                 -pf $properties_file_path \\\n",
    "                                                                 -n 100000 \\\n",
    "                                                                 --debug \\\n",
    "                                                                 -gt yes -gz yes -w yes \\\n",
    "                                                                 -log $log_save_path > $triple_output_save_path\n",
    "#     !gzip -f $triple_output_save_path\n",
    "    \n",
    "    with open(triple_output_save_path, 'rb') as f_in:\n",
    "        with gzip.open(triple_output_save_path + '.gz', 'wb') as f_out:\n",
    "            shutil.copyfileobj(f_in, f_out)\n",
    "            os.remove(f_in.name)\n",
    "        "
   ]
  },
  {
   "cell_type": "markdown",
   "metadata": {},
   "source": [
    "### Load Triples"
   ]
  },
  {
   "cell_type": "code",
   "execution_count": null,
   "metadata": {},
   "outputs": [],
   "source": []
  },
  {
   "cell_type": "code",
   "execution_count": null,
   "metadata": {},
   "outputs": [],
   "source": [
    "# Exception Functions\n",
    "class PortInUseError(BaseException):\n",
    "    \"\"\"Base class for other exceptions\"\"\"\n",
    "    def __init__(self,value):\n",
    "        self.value = value\n",
    "\n",
    "\n",
    "class DockerNameInUse(BaseException):\n",
    "\n",
    "    def __init__(self,value):\n",
    "        self.value = value\n"
   ]
  },
  {
   "cell_type": "code",
   "execution_count": null,
   "metadata": {},
   "outputs": [],
   "source": [
    "class BlazegraphLoad():\n",
    "    def __init__(self,ttl_path,wikibase_ui_port,wikibase_sparql,wikibase_proxy,wikibase_qs,wikibase_volume,\n",
    "                 create_new,docker_name,stop_docker,blazegraph_image,query_service_name):\n",
    "        self.ttl_path = os.path.join(dirname,ttl_path)\n",
    "        self.wikibase_ui_port = str(wikibase_ui_port)\n",
    "        self.wikibase_sparql = str(wikibase_sparql)\n",
    "        self.wikibase_proxy = str(wikibase_proxy)\n",
    "        self.wikibase_qs = str(wikibase_qs)\n",
    "        self.wikibase_volume = wikibase_volume\n",
    "        self.create_new = create_new\n",
    "        self.docker_name = docker_name\n",
    "        self.stop_docker = stop_docker\n",
    "        self.blazegraph_image = blazegraph_image\n",
    "        self.query_service_name = query_service_name\n",
    "        os.environ['WIKIBASE_UI'] = self.wikibase_ui_port\n",
    "        os.environ['WIKIBASE_SPARQL'] = self.wikibase_sparql\n",
    "        os.environ['WIKIBASE_PROXY'] = self.wikibase_proxy\n",
    "        os.environ['WIKIBASE_QS'] = self.wikibase_qs\n",
    "        os.environ['WIKIBASE_VOLUME'] = self.wikibase_volume\n",
    "        os.environ['BLAZEGRAPH_IMAGE'] = self.blazegraph_image\n",
    "        os.environ['QUERY_SERVICE_NAME'] = self.query_service_name\n",
    "\n",
    "    @staticmethod\n",
    "    def check_availability():\n",
    "\n",
    "        wikibase_ui = os.getenv('WIKIBASE_UI')\n",
    "        wikibase_sparql = os.getenv('WIKIBASE_SPARQL')\n",
    "        wikibase_proxy = os.getenv('WIKIBASE_PROXY')\n",
    "        wikibase_qs = os.getenv('WIKIBASE_QS')\n",
    "        with socket.socket(socket.AF_INET, socket.SOCK_STREAM) as s:\n",
    "            wikibase_ui_usage = s.connect_ex(('localhost', int(wikibase_ui))) == 0\n",
    "            wikibase_sparql_usage = s.connect_ex(('localhost', int(wikibase_sparql))) == 0\n",
    "            wikibase_proxy_usage = s.connect_ex(('localhost', int(wikibase_proxy))) == 0\n",
    "            wikibase_qs_usage = s.connect_ex(('localhost', int(wikibase_qs))) == 0\n",
    "        docker_name_availability = subprocess.Popen(['docker', 'ps', '--filter', 'name={}'.format(docker_name)],\n",
    "                                                    stdin=subprocess.PIPE, stdout=subprocess.PIPE)\n",
    "        try:\n",
    "            if create_new:\n",
    "                if wikibase_ui_usage:\n",
    "                    raise PortInUseError('Wikibase UI Port is in use')\n",
    "                if wikibase_sparql_usage:\n",
    "                    raise PortInUseError('Wikibase Sparql Port is in use')\n",
    "                if wikibase_proxy_usage:\n",
    "                    raise PortInUseError('Wikibase Proxy Port is in use')\n",
    "                if wikibase_qs_usage:\n",
    "                    raise PortInUseError('Wikibase QS Port is in use')\n",
    "            if len(docker_name_availability.communicate()[0]) > 126:\n",
    "                raise DockerNameInUse('Try changing docker container name')\n",
    "            print(docker_name_availability)\n",
    "        except PortInUseError as Argument:\n",
    "            raise ('Error Message:', Argument)\n",
    "            sys.exit(1)\n",
    "\n",
    "        except DockerNameInUse as Argument:\n",
    "            raise ('Error Message:', Argument)\n",
    "            sys.exit(1)\n",
    "        return True\n",
    "\n",
    "    @staticmethod\n",
    "    def load_data():\n",
    "        l_data = subprocess.Popen(\n",
    "            ['docker', 'exec', '{}_wdqs_1'.format(docker_name), '/wdqs/loadData.sh', '-n', 'wdq', '-d',\n",
    "             '/instancestore/wikibase/mungeOut'], stdin=subprocess.PIPE, stdout=subprocess.PIPE)\n",
    "        print(l_data.communicate()[0])\n",
    "\n",
    "    def driver_fn(self):\n",
    "        if self.create_new:\n",
    "            all_parameters = self.check_availability()\n",
    "            if all_parameters:\n",
    "                create_docker = subprocess.Popen(\n",
    "                    ['docker-compose', '-f', 'docker-compose.pipeline.yml', '-p', docker_name, 'up', '-d'],\n",
    "                    stdin=subprocess.PIPE, stdout=subprocess.PIPE)\n",
    "                create_docker.communicate()\n",
    "\n",
    "        if self.stop_docker == 'Yes' or self.stop_docker == 'yes':\n",
    "            docker_stop = subprocess.Popen(\n",
    "                ['docker-compose', '-f', 'docker-compose.pipeline.yml', '-p', docker_name, 'down', '-v'],\n",
    "                stdin=subprocess.PIPE, stdout=subprocess.PIPE)\n",
    "            docker_stop.communicate()\n",
    "            sys.exit(1)\n",
    "\n",
    "        if os.path.isdir(os.getenv('WIKIBASE_VOLUME') + '/mungeOut'):\n",
    "            shutil.copy(ttl_path, os.path.join(os.getenv('WIKIBASE_VOLUME'), 'mungeOut/wikidump-000000001.ttl.gz'))\n",
    "        else:\n",
    "            os.makedirs(os.path.join(os.getenv('WIKIBASE_VOLUME'), 'mungeOut'))\n",
    "            shutil.copy(ttl_path, os.path.join(os.getenv('WIKIBASE_VOLUME'), 'mungeOut/wikidump-000000001.ttl.gz'))\n",
    "\n",
    "        time.sleep(40)\n",
    "\n",
    "        self.load_data()\n",
    "        os.remove(os.path.join(os.getenv('WIKIBASE_VOLUME'), 'mungeOut/wikidump-000000001.ttl.gz'))"
   ]
  },
  {
   "cell_type": "code",
   "execution_count": null,
   "metadata": {},
   "outputs": [],
   "source": [
    "# Run only load triples\n",
    "if only_load_triples:\n",
    "    loader_obj = BlazegraphLoad(ttl_path,wikibase_ui_port,wikibase_sparql_port,wikibase_proxy_port,wikibase_qs_port,\n",
    "                                    wikibase_volume,create_new,docker_name,stop_docker,blazegraph_image,query_service_name)\n",
    "    loader_obj.driver_fn()"
   ]
  },
  {
   "cell_type": "code",
   "execution_count": null,
   "metadata": {},
   "outputs": [],
   "source": [
    "# Run both the pipeline\n",
    "if both_gen_and_load_triples:\n",
    "    generate_concat_files(kgtk_files, kgtk_path, output_filename)\n",
    "\n",
    "    gen_triple_input = os.path.join(kgtk_path,output_filename)\n",
    "    triple_output_save_path = os.path.join(kgtk_path,triple_filename)\n",
    "    log_save_path = os.path.join(kgtk_path,triple_generation_log)\n",
    "    !time cat $gen_triple_input | kgtk generate_wikidata_triples -ap aliases,alias -lp label -dp description \\\n",
    "                                                                 -pf $properties_file_path \\\n",
    "                                                                 -n 100000 \\\n",
    "                                                                 --debug \\\n",
    "                                                                 -gt yes -gz yes -w yes \\\n",
    "                                                                 -log $log_save_path > $triple_output_save_path\n",
    "#     !gzip -f $triple_output_save_path\n",
    "\n",
    "    ## gzip the ttl file\n",
    "    with open(triple_output_save_path, 'rb') as f_in:\n",
    "        with gzip.open(triple_output_save_path + '.gz', 'wb') as f_out:\n",
    "            shutil.copyfileobj(f_in, f_out)\n",
    "            os.remove(f_in.name)\n",
    "            \n",
    "            \n",
    "    ttl_path = triple_output_save_path + '.gz'\n",
    "    \n",
    "    \n",
    "    loader_obj = BlazegraphLoad(ttl_path,wikibase_ui_port,wikibase_sparql_port,wikibase_proxy_port,wikibase_qs_port,\n",
    "                                    wikibase_volume,create_new,docker_name,stop_docker,blazegraph_image,query_service_name)\n",
    "    loader_obj.driver_fn()"
   ]
  }
 ],
 "metadata": {
  "celltoolbar": "Tags",
  "kernelspec": {
   "display_name": "Python 3",
   "language": "python",
   "name": "python3"
  },
  "language_info": {
   "codemirror_mode": {
    "name": "ipython",
    "version": 3
   },
   "file_extension": ".py",
   "mimetype": "text/x-python",
   "name": "python",
   "nbconvert_exporter": "python",
   "pygments_lexer": "ipython3",
   "version": "3.7.9"
  }
 },
 "nbformat": 4,
 "nbformat_minor": 4
}
