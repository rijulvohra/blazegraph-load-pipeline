{
 "cells": [
  {
   "cell_type": "code",
   "execution_count": 20,
   "metadata": {
    "tags": [
     "parameters"
    ]
   },
   "outputs": [],
   "source": [
    "# Generate triples default parameters\n",
    "# kgtk_path takes in the directory of containing KGTK edge files\n",
    "kgtk_path = '/Users/rijulvohra/Documents/work/Novartis-ISI/kgtk_development/data/Q28885102'\n",
    "output_filename = 'pharma_product_concat.tsv.gz'\n",
    "triple_filename = 'pharma_triple.ttl'\n",
    "triple_generation_log = 'pharma_log.txt'\n",
    "properties_file_path = './properties.tsv'"
   ]
  },
  {
   "cell_type": "code",
   "execution_count": 21,
   "metadata": {},
   "outputs": [
    {
     "name": "stdout",
     "output_type": "stream",
     "text": [
      "/Users/rijulvohra/Documents/work/Novartis-ISI/kgtk_development/data/Q28885102\n"
     ]
    }
   ],
   "source": [
    "import os\n",
    "import re\n",
    "import subprocess\n",
    "import gzip\n",
    "dirname = os.path.abspath('')\n",
    "kgtk_path = os.path.join(dirname,kgtk_path)\n",
    "print(kgtk_path)"
   ]
  },
  {
   "cell_type": "code",
   "execution_count": 3,
   "metadata": {},
   "outputs": [],
   "source": [
    "def get_uncompressed_size(file):\n",
    "    pipe_in = os.popen('gzip -l %s' % file)\n",
    "    list_1 = pipe_in.readlines()\n",
    "    list_2 = list_1[1].split()\n",
    "    c , u , r , n = list_2\n",
    "    return int(u)"
   ]
  },
  {
   "cell_type": "code",
   "execution_count": 10,
   "metadata": {},
   "outputs": [
    {
     "name": "stdout",
     "output_type": "stream",
     "text": [
      "CPU times: user 10.7 ms, sys: 29.2 ms, total: 39.9 ms\n",
      "Wall time: 140 ms\n"
     ]
    }
   ],
   "source": [
    "%%time\n",
    "def find_files(path):\n",
    "    kgtk_files = []\n",
    "    for file_name in os.listdir(path):\n",
    "        if file_name.startswith('Q') and file_name.endswith('.gz'):\n",
    "            if re.search('.statistics.tsv.gz',file_name) or re.search('.P279star.tsv.gz',file_name):\n",
    "                continue\n",
    "            if get_uncompressed_size(os.path.join(kgtk_path,file_name)):\n",
    "                kgtk_files.append(os.path.join(kgtk_path,file_name))\n",
    "    return kgtk_files\n",
    "kgtk_files = find_files(kgtk_path)"
   ]
  },
  {
   "cell_type": "code",
   "execution_count": 11,
   "metadata": {},
   "outputs": [
    {
     "name": "stdout",
     "output_type": "stream",
     "text": [
      "CPU times: user 19.6 ms, sys: 11.7 ms, total: 31.4 ms\n",
      "Wall time: 1.39 s\n"
     ]
    }
   ],
   "source": [
    "%%time\n",
    "def generate_concat_files(kgtk_files, path, output_filename):\n",
    "    concat_input = ' '.join(kgtk_files)\n",
    "    output_concat = os.path.join(kgtk_path,output_filename)\n",
    "    !kgtk cat -o $output_concat -i $concat_input\n",
    "generate_concat_files(kgtk_files, kgtk_path, output_filename)"
   ]
  },
  {
   "cell_type": "code",
   "execution_count": 13,
   "metadata": {},
   "outputs": [
    {
     "name": "stdout",
     "output_type": "stream",
     "text": [
      "cat   0.00s user 0.00s system 0% cpu 9.485 total\r\n",
      "kgtk generate_wikidata_triples -ap aliases,alias -lp label -dp description -p  21.75s user 0.59s system 101% cpu 21.925 total\r\n"
     ]
    }
   ],
   "source": [
    "##generate_wikidata_triples\n",
    "\n",
    "gen_triple_input = os.path.join(kgtk_path,output_filename)\n",
    "triple_output_save_path = os.path.join(kgtk_path,triple_filename)\n",
    "log_save_path = os.path.join(kgtk_path,triple_generation_log)\n",
    "!time cat $gen_triple_input | kgtk generate_wikidata_triples -ap aliases,alias -lp label -dp description \\\n",
    "                                                             -pf $properties_file_path \\\n",
    "                                                             -n 100000 \\\n",
    "                                                             --debug \\\n",
    "                                                             -gt yes -gz yes -w yes \\\n",
    "                                                             -log $log_save_path > $triple_output_save_path"
   ]
  },
  {
   "cell_type": "code",
   "execution_count": 14,
   "metadata": {},
   "outputs": [
    {
     "name": "stdout",
     "output_type": "stream",
     "text": [
      "CPU times: user 4.37 ms, sys: 8.14 ms, total: 12.5 ms\n",
      "Wall time: 233 ms\n"
     ]
    }
   ],
   "source": [
    "%%time\n",
    "!gzip -f $triple_output_save_path"
   ]
  },
  {
   "cell_type": "code",
   "execution_count": null,
   "metadata": {},
   "outputs": [],
   "source": []
  }
 ],
 "metadata": {
  "celltoolbar": "Tags",
  "kernelspec": {
   "display_name": "Python 3",
   "language": "python",
   "name": "python3"
  },
  "language_info": {
   "codemirror_mode": {
    "name": "ipython",
    "version": 3
   },
   "file_extension": ".py",
   "mimetype": "text/x-python",
   "name": "python",
   "nbconvert_exporter": "python",
   "pygments_lexer": "ipython3",
   "version": "3.7.9"
  }
 },
 "nbformat": 4,
 "nbformat_minor": 4
}
