{
 "cells": [
  {
   "cell_type": "code",
   "execution_count": 1,
   "metadata": {
    "execution": {
     "iopub.execute_input": "2020-10-16T05:20:18.286715Z",
     "iopub.status.busy": "2020-10-16T05:20:18.285249Z",
     "iopub.status.idle": "2020-10-16T05:20:18.289698Z",
     "shell.execute_reply": "2020-10-16T05:20:18.288437Z"
    },
    "papermill": {
     "duration": 0.024541,
     "end_time": "2020-10-16T05:20:18.290126",
     "exception": false,
     "start_time": "2020-10-16T05:20:18.265585",
     "status": "completed"
    },
    "tags": [
     "parameters"
    ]
   },
   "outputs": [],
   "source": [
    "kgtk_path = '/Users/rijulvohra/Documents/work/Novartis-ISI/kgtk_development/data/Q28885102'\n",
    "output_filename = 'pharma_product_concat.tsv.gz'\n",
    "triple_filename = 'pharma_triple.ttl'\n",
    "triple_generation_log = 'pharma_log.txt'\n",
    "properties_file_path = './properties.tsv'"
   ]
  },
  {
   "cell_type": "code",
   "execution_count": 2,
   "metadata": {
    "execution": {
     "iopub.execute_input": "2020-10-16T05:20:18.307679Z",
     "iopub.status.busy": "2020-10-16T05:20:18.306646Z",
     "iopub.status.idle": "2020-10-16T05:20:18.308849Z",
     "shell.execute_reply": "2020-10-16T05:20:18.309290Z"
    },
    "papermill": {
     "duration": 0.012107,
     "end_time": "2020-10-16T05:20:18.309460",
     "exception": false,
     "start_time": "2020-10-16T05:20:18.297353",
     "status": "completed"
    },
    "tags": [
     "injected-parameters"
    ]
   },
   "outputs": [],
   "source": [
    "# Parameters\n",
    "kgtk_path = \"../data/Q11173\"\n",
    "output_filename = \"chem_concat_2.tsv.gz\"\n",
    "triple_filename = \"chem_triple_2.ttl\"\n",
    "triple_generation_log = \"chem_log.txt\"\n",
    "properties_file_path = \"./properties.tsv\"\n"
   ]
  },
  {
   "cell_type": "code",
   "execution_count": 3,
   "metadata": {
    "execution": {
     "iopub.execute_input": "2020-10-16T05:20:18.323159Z",
     "iopub.status.busy": "2020-10-16T05:20:18.322462Z",
     "iopub.status.idle": "2020-10-16T05:20:18.324924Z",
     "shell.execute_reply": "2020-10-16T05:20:18.325355Z"
    },
    "papermill": {
     "duration": 0.011832,
     "end_time": "2020-10-16T05:20:18.325600",
     "exception": false,
     "start_time": "2020-10-16T05:20:18.313768",
     "status": "completed"
    },
    "tags": []
   },
   "outputs": [
    {
     "name": "stdout",
     "output_type": "stream",
     "text": [
      "/Users/rijulvohra/Documents/work/Novartis-ISI/kgtk_development/notebook/../data/Q11173\n"
     ]
    }
   ],
   "source": [
    "import os\n",
    "import re\n",
    "import subprocess\n",
    "import gzip\n",
    "dirname = os.path.abspath('')\n",
    "kgtk_path = os.path.join(dirname,kgtk_path)\n",
    "print(kgtk_path)"
   ]
  },
  {
   "cell_type": "code",
   "execution_count": 4,
   "metadata": {
    "execution": {
     "iopub.execute_input": "2020-10-16T05:20:18.339206Z",
     "iopub.status.busy": "2020-10-16T05:20:18.338486Z",
     "iopub.status.idle": "2020-10-16T05:20:18.340264Z",
     "shell.execute_reply": "2020-10-16T05:20:18.340748Z"
    },
    "papermill": {
     "duration": 0.010722,
     "end_time": "2020-10-16T05:20:18.340944",
     "exception": false,
     "start_time": "2020-10-16T05:20:18.330222",
     "status": "completed"
    },
    "tags": []
   },
   "outputs": [],
   "source": [
    "def get_uncompressed_size(file):\n",
    "    pipe_in = os.popen('gzip -l %s' % file)\n",
    "    list_1 = pipe_in.readlines()\n",
    "    list_2 = list_1[1].split()\n",
    "    c , u , r , n = list_2\n",
    "    return int(u)"
   ]
  },
  {
   "cell_type": "code",
   "execution_count": 5,
   "metadata": {
    "execution": {
     "iopub.execute_input": "2020-10-16T05:20:18.355170Z",
     "iopub.status.busy": "2020-10-16T05:20:18.354506Z",
     "iopub.status.idle": "2020-10-16T05:20:18.490487Z",
     "shell.execute_reply": "2020-10-16T05:20:18.489967Z"
    },
    "papermill": {
     "duration": 0.145096,
     "end_time": "2020-10-16T05:20:18.490702",
     "exception": false,
     "start_time": "2020-10-16T05:20:18.345606",
     "status": "completed"
    },
    "tags": []
   },
   "outputs": [
    {
     "name": "stdout",
     "output_type": "stream",
     "text": [
      "CPU times: user 8.56 ms, sys: 20.7 ms, total: 29.3 ms\n",
      "Wall time: 132 ms\n"
     ]
    }
   ],
   "source": [
    "%%time\n",
    "def find_files(path):\n",
    "    kgtk_files = []\n",
    "    for file_name in os.listdir(path):\n",
    "        if file_name.startswith('Q') and file_name.endswith('.gz'):\n",
    "            if re.search('.statistics.tsv.gz',file_name) or re.search('.P279star.tsv.gz',file_name):\n",
    "                continue\n",
    "            if get_uncompressed_size(os.path.join(kgtk_path,file_name)):\n",
    "                kgtk_files.append(os.path.join(kgtk_path,file_name))\n",
    "    return kgtk_files\n",
    "kgtk_files = find_files(kgtk_path)"
   ]
  },
  {
   "cell_type": "code",
   "execution_count": 6,
   "metadata": {
    "execution": {
     "iopub.execute_input": "2020-10-16T05:20:18.507775Z",
     "iopub.status.busy": "2020-10-16T05:20:18.507217Z",
     "iopub.status.idle": "2020-10-16T05:21:53.122358Z",
     "shell.execute_reply": "2020-10-16T05:21:53.123168Z"
    },
    "papermill": {
     "duration": 94.627857,
     "end_time": "2020-10-16T05:21:53.123715",
     "exception": false,
     "start_time": "2020-10-16T05:20:18.495858",
     "status": "completed"
    },
    "tags": []
   },
   "outputs": [
    {
     "name": "stdout",
     "output_type": "stream",
     "text": [
      "CPU times: user 1.17 s, sys: 363 ms, total: 1.54 s\n",
      "Wall time: 1min 34s\n"
     ]
    }
   ],
   "source": [
    "%%time\n",
    "def generate_concat_files(kgtk_files, path, output_filename):\n",
    "    concat_input = ' '.join(kgtk_files)\n",
    "    output_concat = os.path.join(kgtk_path,output_filename)\n",
    "    !kgtk cat -o $output_concat -i $concat_input\n",
    "generate_concat_files(kgtk_files, kgtk_path, output_filename)"
   ]
  },
  {
   "cell_type": "code",
   "execution_count": 7,
   "metadata": {
    "execution": {
     "iopub.execute_input": "2020-10-16T05:21:53.149076Z",
     "iopub.status.busy": "2020-10-16T05:21:53.148418Z",
     "iopub.status.idle": "2020-10-16T07:06:54.434633Z",
     "shell.execute_reply": "2020-10-16T07:06:54.435447Z"
    },
    "papermill": {
     "duration": 6301.302774,
     "end_time": "2020-10-16T07:06:54.435770",
     "exception": false,
     "start_time": "2020-10-16T05:21:53.132996",
     "status": "completed"
    },
    "tags": []
   },
   "outputs": [
    {
     "name": "stdout",
     "output_type": "stream",
     "text": [
      "/Users/rijulvohra/Documents/work/Novartis-ISI/kgtk_development/kgtk/kgtk/generator.py:408: UserWarning: Node2 [somevalue] at line [1196914] is not a legal quantity. Skipping it.\r\n",
      "\r\n",
      "  node2, line_number))\r\n",
      "/Users/rijulvohra/Documents/work/Novartis-ISI/kgtk_development/kgtk/kgtk/generator.py:408: UserWarning: Node2 [somevalue] at line [1196915] is not a legal quantity. Skipping it.\r\n",
      "\r\n",
      "  node2, line_number))\r\n",
      "/Users/rijulvohra/Documents/work/Novartis-ISI/kgtk_development/kgtk/kgtk/generator.py:408: UserWarning: Node2 [somevalue] at line [1196916] is not a legal quantity. Skipping it.\r\n",
      "\r\n",
      "  node2, line_number))\r\n",
      "/Users/rijulvohra/Documents/work/Novartis-ISI/kgtk_development/kgtk/kgtk/generator.py:408: UserWarning: Node2 [somevalue] at line [1196917] is not a legal quantity. Skipping it.\r\n",
      "\r\n",
      "  node2, line_number))\r\n",
      "/Users/rijulvohra/Documents/work/Novartis-ISI/kgtk_development/kgtk/kgtk/generator.py:408: UserWarning: Node2 [somevalue] at line [1196918] is not a legal quantity. Skipping it.\r\n",
      "\r\n",
      "  node2, line_number))\r\n"
     ]
    },
    {
     "name": "stdout",
     "output_type": "stream",
     "text": [
      "/Users/rijulvohra/Documents/work/Novartis-ISI/kgtk_development/kgtk/kgtk/generator.py:408: UserWarning: Node2 [somevalue] at line [1336541] is not a legal quantity. Skipping it.\r\n",
      "\r\n",
      "  node2, line_number))\r\n",
      "/Users/rijulvohra/Documents/work/Novartis-ISI/kgtk_development/kgtk/kgtk/generator.py:408: UserWarning: Node2 [somevalue] at line [1336542] is not a legal quantity. Skipping it.\r\n",
      "\r\n",
      "  node2, line_number))\r\n",
      "/Users/rijulvohra/Documents/work/Novartis-ISI/kgtk_development/kgtk/kgtk/generator.py:408: UserWarning: Node2 [somevalue] at line [1336543] is not a legal quantity. Skipping it.\r\n",
      "\r\n",
      "  node2, line_number))\r\n",
      "/Users/rijulvohra/Documents/work/Novartis-ISI/kgtk_development/kgtk/kgtk/generator.py:408: UserWarning: Node2 [somevalue] at line [1336544] is not a legal quantity. Skipping it.\r\n",
      "\r\n",
      "  node2, line_number))\r\n"
     ]
    },
    {
     "name": "stdout",
     "output_type": "stream",
     "text": [
      "/Users/rijulvohra/Documents/work/Novartis-ISI/kgtk_development/kgtk/kgtk/generator.py:408: UserWarning: Node2 [novalue] at line [1357409] is not a legal quantity. Skipping it.\r\n",
      "\r\n",
      "  node2, line_number))\r\n"
     ]
    },
    {
     "name": "stdout",
     "output_type": "stream",
     "text": [
      "/Users/rijulvohra/Documents/work/Novartis-ISI/kgtk_development/kgtk/kgtk/generator.py:408: UserWarning: Node2 [novalue] at line [1357554] is not a legal quantity. Skipping it.\r\n",
      "\r\n",
      "  node2, line_number))\r\n"
     ]
    },
    {
     "name": "stdout",
     "output_type": "stream",
     "text": [
      "cat   0.01s user 0.12s system 0% cpu 1:44:40.64 total\r\n",
      "kgtk generate_wikidata_triples -ap aliases,alias -lp label -dp description -p  6242.88s user 44.49s system 99% cpu 1:45:01.16 total\r\n"
     ]
    }
   ],
   "source": [
    "##generate_wikidata_triples\n",
    "\n",
    "gen_triple_input = os.path.join(kgtk_path,output_filename)\n",
    "triple_output_save_path = os.path.join(kgtk_path,triple_filename)\n",
    "log_save_path = os.path.join(kgtk_path,triple_generation_log)\n",
    "!time cat $gen_triple_input | kgtk generate_wikidata_triples -ap aliases,alias -lp label -dp description \\\n",
    "                                                             -pf $properties_file_path \\\n",
    "                                                             -n 100000 \\\n",
    "                                                             --debug \\\n",
    "                                                             -gt yes -gz yes -w yes \\\n",
    "                                                             -log $log_save_path > $triple_output_save_path"
   ]
  },
  {
   "cell_type": "code",
   "execution_count": 8,
   "metadata": {
    "execution": {
     "iopub.execute_input": "2020-10-16T07:06:54.464449Z",
     "iopub.status.busy": "2020-10-16T07:06:54.462590Z",
     "iopub.status.idle": "2020-10-16T07:07:50.579756Z",
     "shell.execute_reply": "2020-10-16T07:07:50.580164Z"
    },
    "papermill": {
     "duration": 56.136004,
     "end_time": "2020-10-16T07:07:50.580344",
     "exception": false,
     "start_time": "2020-10-16T07:06:54.444340",
     "status": "completed"
    },
    "tags": []
   },
   "outputs": [
    {
     "name": "stdout",
     "output_type": "stream",
     "text": [
      "CPU times: user 740 ms, sys: 236 ms, total: 976 ms\n",
      "Wall time: 56.1 s\n"
     ]
    }
   ],
   "source": [
    "%%time\n",
    "!gzip -f $triple_output_save_path"
   ]
  },
  {
   "cell_type": "code",
   "execution_count": null,
   "metadata": {
    "papermill": {
     "duration": 0.008648,
     "end_time": "2020-10-16T07:07:50.597193",
     "exception": false,
     "start_time": "2020-10-16T07:07:50.588545",
     "status": "completed"
    },
    "tags": []
   },
   "outputs": [],
   "source": []
  }
 ],
 "metadata": {
  "celltoolbar": "Tags",
  "kernelspec": {
   "display_name": "Python 3",
   "language": "python",
   "name": "python3"
  },
  "language_info": {
   "codemirror_mode": {
    "name": "ipython",
    "version": 3
   },
   "file_extension": ".py",
   "mimetype": "text/x-python",
   "name": "python",
   "nbconvert_exporter": "python",
   "pygments_lexer": "ipython3",
   "version": "3.7.9"
  },
  "papermill": {
   "default_parameters": {},
   "duration": 6454.858833,
   "end_time": "2020-10-16T07:07:51.775127",
   "environment_variables": {},
   "exception": null,
   "input_path": "pipeline_triple_generation.ipynb",
   "output_path": "pipeline_chemical_op.ipynb",
   "parameters": {
    "kgtk_path": "../data/Q11173",
    "output_filename": "chem_concat_2.tsv.gz",
    "properties_file_path": "./properties.tsv",
    "triple_filename": "chem_triple_2.ttl",
    "triple_generation_log": "chem_log.txt"
   },
   "start_time": "2020-10-16T05:20:16.916294",
   "version": "2.2.0"
  }
 },
 "nbformat": 4,
 "nbformat_minor": 4
}